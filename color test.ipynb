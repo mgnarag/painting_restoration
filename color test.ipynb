{
  "nbformat": 4,
  "nbformat_minor": 0,
  "metadata": {
    "colab": {
      "provenance": [],
      "include_colab_link": true
    },
    "kernelspec": {
      "name": "python3",
      "display_name": "Python 3"
    },
    "language_info": {
      "name": "python"
    }
  },
  "cells": [
    {
      "cell_type": "markdown",
      "metadata": {
        "id": "view-in-github",
        "colab_type": "text"
      },
      "source": [
        "<a href=\"https://colab.research.google.com/github/mgnarag/painting_restoration/blob/main/color%20test.ipynb\" target=\"_parent\"><img src=\"https://colab.research.google.com/assets/colab-badge.svg\" alt=\"Open In Colab\"/></a>"
      ]
    },
    {
      "cell_type": "code",
      "execution_count": 79,
      "metadata": {
        "id": "gXM5CNP5BaYU",
        "outputId": "354b1b3c-c3b9-4f78-aefa-b0c936ee0651",
        "colab": {
          "base_uri": "https://localhost:8080/"
        }
      },
      "outputs": [
        {
          "output_type": "stream",
          "name": "stdout",
          "text": [
            "Drive already mounted at /content/drive; to attempt to forcibly remount, call drive.mount(\"/content/drive\", force_remount=True).\n"
          ]
        }
      ],
      "source": [
        "from google.colab import drive\n",
        "drive.mount(\"/content/drive\")"
      ]
    },
    {
      "cell_type": "code",
      "source": [
        "!ls drive/My\\ Drive\n",
        "file_path = \"/content/drive/MyDrive/Baumgartner screenshots/\""
      ],
      "metadata": {
        "id": "xiAgOwvmBcjr",
        "collapsed": true
      },
      "execution_count": null,
      "outputs": []
    },
    {
      "cell_type": "markdown",
      "source": [
        "## Installing packages"
      ],
      "metadata": {
        "id": "zEoJQzJ5bM8p"
      }
    },
    {
      "cell_type": "code",
      "source": [
        "import time\n",
        "import pandas as pd\n",
        "\n",
        "import matplotlib.pyplot as plt\n",
        "import numpy as np\n",
        "import tensorflow as tf\n",
        "\n",
        "from PIL import Image, ImageOps\n",
        "import os\n",
        "import numpy as np\n",
        "\n",
        "import tensorflow as tf\n",
        "from tensorflow.keras.preprocessing.image import ImageDataGenerator\n",
        "import matplotlib.pyplot as plt\n",
        "from scipy.ndimage import zoom\n",
        "\n",
        "import cv2\n",
        "from skimage import color\n",
        "\n",
        "from tensorflow import keras\n",
        "from PIL import Image, ImageOps\n",
        "import numpy as np\n",
        "import PIL\n",
        "PIL.Image.MAX_IMAGE_PIXELS = 236958876\n",
        "from sklearn.model_selection import train_test_split"
      ],
      "metadata": {
        "id": "FgE9bH4-MFlB"
      },
      "execution_count": 22,
      "outputs": []
    },
    {
      "cell_type": "markdown",
      "source": [
        "## Defining functions"
      ],
      "metadata": {
        "id": "ihq928NMbTBc"
      }
    },
    {
      "cell_type": "code",
      "source": [
        "def rgb_lab_normalized(im):\n",
        "    rgb_array = np.array(im) # Convert to numpy array\n",
        "    rgb_array_normalized = rgb_array / 255.0 # Normalize RGB values from 0 to 1\n",
        "    lab_array_normalized = color.rgb2lab(rgb_array_normalized) # Convert RGB to LAB colorspace\n",
        "    lab_array_normalized[..., 0] = (lab_array_normalized[..., 0]) / 100.0 # Scale LAB values to range [0, 1]\n",
        "    lab_array_normalized[..., 1] = (lab_array_normalized[..., 1] + 128) / 255.0\n",
        "    lab_array_normalized[..., 2] = (lab_array_normalized[..., 2] + 128) / 255.0\n",
        "    lab_image_normalized = Image.fromarray((lab_array_normalized * 255).astype(np.uint8), mode='LAB')# Convert LAB array back to image\n",
        "    return lab_image_normalized"
      ],
      "metadata": {
        "id": "GRBwljTxNi-i"
      },
      "execution_count": 23,
      "outputs": []
    },
    {
      "cell_type": "markdown",
      "source": [
        "## Testing the model"
      ],
      "metadata": {
        "id": "3lnB29-_cVp-"
      }
    },
    {
      "cell_type": "markdown",
      "source": [
        "### **Model RGB:**"
      ],
      "metadata": {
        "id": "EWPFTVoVxePF"
      }
    },
    {
      "cell_type": "code",
      "source": [
        "n_size = 8\n",
        "size = 8\n",
        "\n",
        "def rgb_L_ab(rgb_image, test_L):\n",
        "    lab_array = color.rgb2lab(np.array(rgb_image))# Convert RGB to LAB colorspace\n",
        "    lab_array[..., 0] = test_L #Change L channel to input\n",
        "    rgb_array = color.lab2rgb(lab_array)# Convert back LAB to RGB colorspace\n",
        "    rgb_array = (rgb_array*255).astype(np.uint8)# Scale RGB values back to the range [0, 255]\n",
        "    rgb_array = Image.fromarray(rgb_array, mode='RGB')# Convert RGB array back to image\n",
        "    return rgb_array\n",
        "\n",
        "autoencoder = keras.models.load_model(file_path + 'Model/portion only/unet_'+str(n_size)+'_rgb')\n",
        "\n",
        "input_folder_path = file_path+ \"Testing/portion only/color test/\"\n",
        "input_files = sorted(os.listdir(input_folder_path))\n",
        "\n",
        "for index, image_file in enumerate(input_files):\n",
        "    image_path = os.path.join(input_folder_path, image_file)\n",
        "    image = Image.open(image_path).convert('RGB')\n",
        "    test_L = color.rgb2lab(np.array(image))\n",
        "    test_L = test_L[..., 0]\n",
        "    image = np.array(image).astype(np.float32) / 255.0# Convert image to numpy array and scale pixel values to [0, 1]\n",
        "    image = np.expand_dims(image, axis=0)# Expand dimensions to match the expected input shape (1, 8, 8, 3)\n",
        "\n",
        "    decoded_imgs = autoencoder.predict(image)\n",
        "    final = (decoded_imgs*255).astype('uint8')\n",
        "\n",
        "    #----------------TEST ON FULL RGB--------------------#\n",
        "    final_rgb = final\n",
        "    final_rgb = np.squeeze(final_rgb)\n",
        "    reconstructed_rgb = Image.fromarray(final_rgb)\n",
        "    reconstructed_rgb.save(file_path + \"Testing/portion only/color test out/\"+\"Method_1_\"+image_file)\n",
        "\n",
        "\n",
        "    #plt.figure(), plt.imshow(reconstructed_rgb)\n",
        "\n",
        "    #----------------TEST ON L from input and AB from convert RGB2LAB of model--------------------#\n",
        "    final_lab = rgb_L_ab(final_rgb, test_L)\n",
        "    final_lab = np.squeeze(final_lab)\n",
        "    reconstructed_lab = Image.fromarray(final_lab)\n",
        "    reconstructed_lab.save(file_path + \"Testing/portion only/color test out/\"+\"Method_2_\"+image_file)\n",
        "    #plt.figure(), plt.imshow(reconstructed_lab)"
      ],
      "metadata": {
        "id": "y3j1v9uGdbTb",
        "colab": {
          "base_uri": "https://localhost:8080/"
        },
        "outputId": "9be43ea3-4fa2-4adc-89fb-c699486b722d"
      },
      "execution_count": 24,
      "outputs": [
        {
          "output_type": "stream",
          "name": "stdout",
          "text": [
            "1/1 [==============================] - 0s 78ms/step\n",
            "1/1 [==============================] - 0s 28ms/step\n",
            "1/1 [==============================] - 0s 25ms/step\n",
            "1/1 [==============================] - 0s 23ms/step\n",
            "1/1 [==============================] - 0s 25ms/step\n",
            "1/1 [==============================] - 0s 26ms/step\n",
            "1/1 [==============================] - 0s 28ms/step\n",
            "1/1 [==============================] - 0s 36ms/step\n",
            "1/1 [==============================] - 0s 28ms/step\n",
            "1/1 [==============================] - 0s 26ms/step\n"
          ]
        }
      ]
    },
    {
      "cell_type": "markdown",
      "source": [
        "### **Model LAB:**"
      ],
      "metadata": {
        "id": "kvODWjVrxmRZ"
      }
    },
    {
      "cell_type": "code",
      "source": [
        "from tensorflow import keras\n",
        "from PIL import Image, ImageOps\n",
        "import numpy as np\n",
        "import PIL\n",
        "PIL.Image.MAX_IMAGE_PIXELS = 236958876\n",
        "\n",
        "n_size = 8\n",
        "size = n_size\n",
        "\n",
        "def lab_rgb_unnormalized(lab_image):\n",
        "    lab_array = np.array(lab_image/255)# Convert LAB image to numpy array\n",
        "    lab_array[..., 0] = lab_array[..., 0] * 100.0# Scale LAB values back to their original ranges\n",
        "    lab_array[..., 1] = (lab_array[..., 1] * 255.0) - 128\n",
        "    lab_array[..., 2] = (lab_array[..., 2] * 255.0) - 128\n",
        "    rgb_array_unnormalized = color.lab2rgb(lab_array)# Convert LAB to RGB colorspace\n",
        "    rgb_array_unnormalized = (rgb_array_unnormalized * 255).astype(np.uint8)# Scale RGB values back to the range [0, 255]\n",
        "    rgb_image_unnormalized = Image.fromarray(rgb_array_unnormalized, mode='RGB')# Convert RGB array back to image\n",
        "    return rgb_image_unnormalized\n",
        "\n",
        "def AB_rgb_unnormalized(lab_image, test_L):\n",
        "    lab_array = np.array(lab_image/255)# Convert LAB image to numpy array\n",
        "    lab_array[..., 0] = test_L #replacing L from the original input\n",
        "    lab_array[..., 1] = (lab_array[..., 1] * 255.0) - 128\n",
        "    lab_array[..., 2] = (lab_array[..., 2] * 255.0) - 128\n",
        "    rgb_array_unnormalized = color.lab2rgb(lab_array)# Convert LAB to RGB colorspace\n",
        "    rgb_array_unnormalized = (rgb_array_unnormalized * 255).astype(np.uint8)# Scale RGB values back to the range [0, 255]\n",
        "    rgb_image_unnormalized = Image.fromarray(rgb_array_unnormalized, mode='RGB')# Convert RGB array back to image\n",
        "    return rgb_image_unnormalized\n",
        "\n",
        "\n",
        "autoencoder = keras.models.load_model(file_path + 'Model/portion only/unet_'+str(n_size)+'_lab')\n",
        "\n",
        "input_folder_path = file_path+ \"Testing/portion only/color test/\"\n",
        "input_files = sorted(os.listdir(input_folder_path))\n",
        "\n",
        "for index, image_file in enumerate(input_files):\n",
        "    image_path = os.path.join(input_folder_path, image_file)\n",
        "    image = Image.open(image_path).convert('RGB')\n",
        "    test_L = color.rgb2lab(np.array(image))\n",
        "    test_L = test_L[..., 0]\n",
        "    image = rgb_lab_normalized(image)\n",
        "    image = np.array(image).astype(np.float32) / 255.0# Convert image to numpy array and scale pixel values to [0, 1]\n",
        "    image = np.expand_dims(image, axis=0)# Expand dimensions to match the expected input shape (1, 8, 8, 3)\n",
        "\n",
        "    decoded_imgs = autoencoder.predict(image)\n",
        "    final = (decoded_imgs*255).astype('uint8')\n",
        "\n",
        "    #----------------TEST ON FULL LAB--------------------#\n",
        "    final_LAB = lab_rgb_unnormalized(np.squeeze(final))\n",
        "    final_LAB = np.squeeze(final_LAB)\n",
        "    reconstructed_LAB = Image.fromarray(final_LAB)\n",
        "    reconstructed_LAB.save(file_path + \"Testing/portion only/color test out/\"+\"Method_3_\"+image_file)\n",
        "    #plt.figure(), plt.imshow(reconstructed_LAB)\n",
        "\n",
        "    #----------------TEST ON L from input and AB from model--------------------#\n",
        "    final_L_AB = AB_rgb_unnormalized(np.squeeze(final), test_L)\n",
        "    final_L_AB = np.squeeze(final_L_AB)\n",
        "    reconstructed_L_AB = Image.fromarray(final_L_AB)\n",
        "    reconstructed_L_AB.save(file_path + \"Testing/portion only/color test out/\"+\"Method_4_\"+image_file)\n",
        "    #plt.figure(), plt.imshow(reconstructed_L_AB)"
      ],
      "metadata": {
        "id": "l2WOweoWxWeB",
        "outputId": "cdcee9e2-5b82-422a-a3d4-af9e03cbc459",
        "colab": {
          "base_uri": "https://localhost:8080/"
        }
      },
      "execution_count": 25,
      "outputs": [
        {
          "output_type": "stream",
          "name": "stdout",
          "text": [
            "1/1 [==============================] - 0s 64ms/step\n",
            "1/1 [==============================] - 0s 21ms/step\n",
            "1/1 [==============================] - 0s 24ms/step\n",
            "1/1 [==============================] - 0s 25ms/step\n",
            "1/1 [==============================] - 0s 24ms/step\n",
            "1/1 [==============================] - 0s 25ms/step\n",
            "1/1 [==============================] - 0s 25ms/step\n",
            "1/1 [==============================] - 0s 24ms/step\n",
            "1/1 [==============================] - 0s 26ms/step\n",
            "1/1 [==============================] - 0s 25ms/step\n"
          ]
        }
      ]
    },
    {
      "cell_type": "markdown",
      "source": [
        "### **Model AB**"
      ],
      "metadata": {
        "id": "2ij1l4JRyQ3r"
      }
    },
    {
      "cell_type": "code",
      "source": [
        "from tensorflow import keras\n",
        "from PIL import Image, ImageOps\n",
        "import numpy as np\n",
        "import PIL\n",
        "PIL.Image.MAX_IMAGE_PIXELS = 236958876\n",
        "\n",
        "n_size = 8\n",
        "size = n_size\n",
        "\n",
        "def rgb_lab_normalized(im):\n",
        "    rgb_array = np.array(im) # Convert to numpy array\n",
        "    rgb_array_normalized = rgb_array / 255.0 # Normalize RGB values from 0 to 1\n",
        "    lab_array_normalized = color.rgb2lab(rgb_array_normalized) # Convert RGB to LAB colorspace\n",
        "    lab_array_normalized[..., 0] = (lab_array_normalized[..., 0]) / 100.0 # Scale LAB values to range [0, 1]\n",
        "    lab_array_normalized[..., 1] = (lab_array_normalized[..., 1] + 128) / 255.0\n",
        "    lab_array_normalized[..., 2] = (lab_array_normalized[..., 2] + 128) / 255.0\n",
        "    lab_image_normalized = Image.fromarray((lab_array_normalized * 255).astype(np.uint8), mode='LAB')# Convert LAB array back to image\n",
        "    return lab_image_normalized\n",
        "\n",
        "def AB_rgb_unnormalized(ab_image, test_L):\n",
        "    ab_array = np.array(ab_image)/255# Convert LAB image to numpy array\n",
        "    ab_array[..., 0] = (ab_array[..., 0] * 255.0) - 128\n",
        "    ab_array[..., 1] = (ab_array[..., 1] * 255.0) - 128\n",
        "    LAB_array = np.dstack((test_L, ab_array[:,:,0], ab_array[:,:,1]))\n",
        "    rgb_array_unnormalized = color.lab2rgb(LAB_array)# Convert LAB to RGB colorspace\n",
        "    rgb_array_unnormalized = (rgb_array_unnormalized * 255).astype(np.uint8)# Scale RGB values back to the range [0, 255]\n",
        "    rgb_image_unnormalized = Image.fromarray(rgb_array_unnormalized, mode='RGB')# Convert RGB array back to image\n",
        "    return rgb_image_unnormalized\n",
        "\n",
        "autoencoder = keras.models.load_model(file_path + 'Model/portion only/unet_'+str(n_size)+'_ab')\n",
        "\n",
        "input_folder_path = file_path+ \"Testing/portion only/color test/\"\n",
        "input_files = sorted(os.listdir(input_folder_path))\n",
        "\n",
        "for index, image_file in enumerate(input_files):\n",
        "    image_path = os.path.join(input_folder_path, image_file)\n",
        "    image = Image.open(image_path).convert('RGB')\n",
        "    test_L = color.rgb2lab(np.array(image))\n",
        "    test_L = np.array(test_L[..., 0]).astype('uint8')\n",
        "    image = rgb_lab_normalized(image)\n",
        "    image = np.array(image).astype(np.float32) / 255.0# Convert image to numpy array and scale pixel values to [0, 1]\n",
        "    image = np.expand_dims(image, axis=0)# Expand dimensions to match the expected input shape (1, 8, 8, 3)\n",
        "\n",
        "    decoded_imgs = autoencoder.predict(image[:,:,:,1:3])\n",
        "    final = (decoded_imgs*255).astype('uint8')\n",
        "\n",
        "    #----------------TEST ON L from input and AB from model--------------------#\n",
        "    final_L_AB = AB_rgb_unnormalized(np.squeeze(final), test_L)\n",
        "    final_L_AB = np.squeeze(final_L_AB)\n",
        "    reconstructed_L_AB = Image.fromarray(final_L_AB)\n",
        "    reconstructed_L_AB.save(file_path + \"Testing/portion only/color test out/\"+\"Method_5_\"+image_file)\n",
        "    #plt.figure(), plt.imshow(reconstructed_L_AB)"
      ],
      "metadata": {
        "id": "jrXxXGj5yFs3",
        "colab": {
          "base_uri": "https://localhost:8080/"
        },
        "outputId": "b61b4b44-f0dd-449d-b555-64f97e124203"
      },
      "execution_count": 26,
      "outputs": [
        {
          "output_type": "stream",
          "name": "stdout",
          "text": [
            "1/1 [==============================] - 0s 80ms/step\n",
            "1/1 [==============================] - 0s 39ms/step\n",
            "1/1 [==============================] - 0s 38ms/step\n",
            "1/1 [==============================] - 0s 35ms/step\n",
            "1/1 [==============================] - 0s 42ms/step\n",
            "1/1 [==============================] - 0s 35ms/step\n",
            "1/1 [==============================] - 0s 38ms/step\n",
            "1/1 [==============================] - 0s 63ms/step\n",
            "1/1 [==============================] - 0s 49ms/step\n",
            "1/1 [==============================] - 0s 43ms/step\n"
          ]
        }
      ]
    },
    {
      "cell_type": "markdown",
      "source": [
        "### **Model AB plus Model L**"
      ],
      "metadata": {
        "id": "EzOXFu1uyjLx"
      }
    },
    {
      "cell_type": "code",
      "source": [
        "\n",
        "from tensorflow import keras\n",
        "from PIL import Image, ImageOps\n",
        "import numpy as np\n",
        "import PIL\n",
        "PIL.Image.MAX_IMAGE_PIXELS = 236958876\n",
        "\n",
        "n_size = 8\n",
        "size = 8\n",
        "\n",
        "def rgb_lab_normalized(im):\n",
        "    rgb_array = np.array(im) # Convert to numpy array\n",
        "    rgb_array_normalized = rgb_array / 255.0 # Normalize RGB values from 0 to 1\n",
        "    lab_array_normalized = color.rgb2lab(rgb_array_normalized) # Convert RGB to LAB colorspace\n",
        "    lab_array_normalized[..., 0] = (lab_array_normalized[..., 0]) / 100.0 # Scale LAB values to range [0, 1]\n",
        "    lab_array_normalized[..., 1] = (lab_array_normalized[..., 1] + 128) / 255.0\n",
        "    lab_array_normalized[..., 2] = (lab_array_normalized[..., 2] + 128) / 255.0\n",
        "    lab_image_normalized = Image.fromarray((lab_array_normalized * 255).astype(np.uint8), mode='LAB')# Convert LAB array back to image\n",
        "    return lab_image_normalized\n",
        "\n",
        "def L_AB_rgb_unnormalized(ab_image, final_L):\n",
        "    ab_image = ab_image/255.0\n",
        "    final_L = final_L/255.0\n",
        "    final_L[..., 0] = final_L[..., 0]*100.0\n",
        "    ab_image[..., 0] = (ab_image[..., 0] * 255.0) - 128\n",
        "    ab_image[..., 1] = (ab_image[..., 1] * 255.0) - 128\n",
        "    LAB_array = np.dstack((final_L, ab_image[:,:,0], ab_image[:,:,1]))\n",
        "    rgb_array_unnormalized = color.lab2rgb(LAB_array)# Convert LAB to RGB colorspace\n",
        "    rgb_array_unnormalized = (rgb_array_unnormalized * 255).astype(np.uint8)# Scale RGB values back to the range [0, 255]\n",
        "    rgb_image_unnormalized = Image.fromarray(rgb_array_unnormalized, mode='RGB')# Convert RGB array back to image\n",
        "    return rgb_image_unnormalized\n",
        "\n",
        "\n",
        "#----------------GETTING L--------------------#\n",
        "autoencoder_L = keras.models.load_model(file_path + 'Model/portion only/unet_'+str(n_size)+'_L')\n",
        "autoencoder_ab = keras.models.load_model(file_path + 'Model/portion only/unet_'+str(n_size)+'_ab')\n",
        "\n",
        "input_folder_path = file_path+ \"Testing/portion only/color test/\"\n",
        "input_files = sorted(os.listdir(input_folder_path))\n",
        "\n",
        "for index, image_file in enumerate(input_files):\n",
        "    image_path = os.path.join(input_folder_path, image_file)\n",
        "    image = Image.open(image_path).convert('RGB')\n",
        "    image = rgb_lab_normalized(image)\n",
        "    image = np.array(image).astype(np.float32) / 255.0# Convert image to numpy array and scale pixel values to [0, 1]\n",
        "    image = np.expand_dims(image, axis=0)# Expand dimensions to match the expected input shape (1, 8, 8, 3)\n",
        "\n",
        "    decoded_imgs = autoencoder_L.predict(image[:,:,:,0:1])\n",
        "    final_L = (decoded_imgs*255).astype('uint8')\n",
        "\n",
        "#----------------GETTING AB--------------------#\n",
        "    image_path = os.path.join(input_folder_path, image_file)\n",
        "    image = Image.open(image_path).convert('RGB')\n",
        "    image = rgb_lab_normalized(image)\n",
        "    image = np.array(image).astype(np.float32) / 255.0# Convert image to numpy array and scale pixel values to [0, 1]\n",
        "    image = np.expand_dims(image, axis=0)# Expand dimensions to match the expected input shape (1, 8, 8, 3)\n",
        "\n",
        "    decoded_imgs = autoencoder_ab.predict(image[:,:,:,1:3])\n",
        "    final_ab = (decoded_imgs*255).astype('uint8')\n",
        "\n",
        "\n",
        "    #----------------TEST ON L from model and AB from model--------------------#\n",
        "    final_L_AB = L_AB_rgb_unnormalized(np.squeeze(final_ab), np.squeeze(final_L, axis=0))\n",
        "    final_L_AB = np.squeeze(final_L_AB)\n",
        "    reconstructed_L_AB = Image.fromarray(final_L_AB)\n",
        "    reconstructed_L_AB.save(file_path + \"Testing/portion only/color test out/\"+\"Method_6_\"+image_file)\n",
        "    #plt.figure(), plt.imshow(reconstructed_L_AB)"
      ],
      "metadata": {
        "id": "LTH18YqyypPw",
        "colab": {
          "base_uri": "https://localhost:8080/"
        },
        "outputId": "d670485e-6352-424d-d4f4-b19434146804"
      },
      "execution_count": 159,
      "outputs": [
        {
          "output_type": "stream",
          "name": "stdout",
          "text": [
            "1/1 [==============================] - 0s 207ms/step\n",
            "1/1 [==============================] - 0s 223ms/step\n",
            "1/1 [==============================] - 0s 85ms/step\n",
            "1/1 [==============================] - 0s 106ms/step\n",
            "1/1 [==============================] - 0s 84ms/step\n",
            "1/1 [==============================] - 0s 66ms/step\n",
            "1/1 [==============================] - 0s 39ms/step\n",
            "1/1 [==============================] - 0s 37ms/step\n",
            "1/1 [==============================] - 0s 46ms/step\n",
            "1/1 [==============================] - 0s 43ms/step\n",
            "1/1 [==============================] - 0s 41ms/step\n",
            "1/1 [==============================] - 0s 39ms/step\n",
            "1/1 [==============================] - 0s 47ms/step\n",
            "1/1 [==============================] - 0s 25ms/step\n",
            "1/1 [==============================] - 0s 26ms/step\n",
            "1/1 [==============================] - 0s 27ms/step\n",
            "1/1 [==============================] - 0s 25ms/step\n",
            "1/1 [==============================] - 0s 25ms/step\n",
            "1/1 [==============================] - 0s 24ms/step\n",
            "1/1 [==============================] - 0s 27ms/step\n"
          ]
        }
      ]
    },
    {
      "cell_type": "code",
      "source": [
        "from skimage import io, color\n",
        "import numpy as np\n",
        "from colormath.color_objects import LabColor\n",
        "from colormath.color_diff import delta_e_cie2000\n",
        "\n",
        "def calculate_delta_e(image1_path, image2_path):\n",
        "    image1 = np.array(Image.open(image1_path).convert('RGB'))\n",
        "    image2 = np.array(Image.open(image2_path).convert('RGB'))\n",
        "\n",
        "    image1_lab = color.rgb2lab(image1)# Convert images from RGB to Lab color space\n",
        "    image2_lab = color.rgb2lab(image2)\n",
        "  # Compute the Delta E 2000 for each pixel\n",
        "    delta_e_map = np.zeros(image1_lab.shape[:2])\n",
        "\n",
        "    for i in range(image1_lab.shape[0]):\n",
        "        for j in range(image1_lab.shape[1]):\n",
        "            lab1 = LabColor(*image1_lab[i, j])\n",
        "            lab2 = LabColor(*image2_lab[i, j])\n",
        "            delta_e_map[i, j] = delta_e_cie2000(lab1, lab2)\n",
        "\n",
        "    # Calculate the mean Delta E 2000 across all pixels\n",
        "    mean_delta_e = np.mean(delta_e_map)\n",
        "    return mean_delta_e"
      ],
      "metadata": {
        "id": "xQNHrpX7Z3bw"
      },
      "execution_count": 164,
      "outputs": []
    },
    {
      "cell_type": "code",
      "source": [
        "groundtruth_folder_path = file_path+ \"Testing/portion only/color test gt/\"\n",
        "gt_files = sorted(os.listdir(groundtruth_folder_path))\n",
        "\n",
        "out_methods_folder_path = file_path+ \"Testing/portion only/color test out/\"\n",
        "out_files = sorted(os.listdir(out_methods_folder_path))\n",
        "\n",
        "fig, axes = plt.subplots(nrows=2, ncols=10, figsize=(20, 4))\n",
        "\n",
        "for index in range(1,len(gt_files)+1):\n",
        "    gt_path = groundtruth_folder_path + str(index) + '_output.png'\n",
        "    out_path_1 = out_methods_folder_path + str('Method_6_') + str(index) + '_input.png'\n",
        "    #print(calculate_delta_e(gt_path, out_path_1))\n",
        "     # Load images\n",
        "    # Load images\n",
        "    gt_image = Image.open(gt_path)\n",
        "    out_image_1 = Image.open(out_path_1)\n",
        "\n",
        "    # Plot ground truth image\n",
        "    ax_gt = axes[0, index-1]\n",
        "    ax_gt.imshow(gt_image)\n",
        "    ax_gt.axis('off')\n",
        "    ax_gt.set_title(f'GT {index}')\n",
        "\n",
        "    # Plot output image\n",
        "    ax_out = axes[1, index-1]\n",
        "    ax_out.imshow(out_image_1)\n",
        "    ax_out.axis('off')\n",
        "    ax_out.set_title(f'M6 {index}')\n",
        "\n",
        "# Adjust layout\n",
        "plt.tight_layout()\n",
        "plt.show()\n"
      ],
      "metadata": {
        "id": "SUCRmvIOCrJP",
        "outputId": "301be87f-6178-4d12-f575-26d7783c94f5",
        "colab": {
          "base_uri": "https://localhost:8080/",
          "height": 280
        }
      },
      "execution_count": 168,
      "outputs": [
        {
          "output_type": "display_data",
          "data": {
            "text/plain": [
              "<Figure size 2000x400 with 20 Axes>"
            ],
            "image/png": "[encoded data removed]"
          },
          "metadata": {}
        }
      ]
    },
    {
      "cell_type": "code",
      "source": [
        "fig, axes = plt.subplots(nrows=2, ncols=10, figsize=(20, 4))\n",
        "\n",
        "for index in range(1,len(gt_files)+1):\n",
        "    gt_path = groundtruth_folder_path + str(index) + '_output.png'\n",
        "    out_path_1 = out_methods_folder_path + str('Method_4_') + str(index) + '_input.png'\n",
        "    #print(calculate_delta_e(gt_path, out_path_1))\n",
        "     # Load images\n",
        "    # Load images\n",
        "    gt_image = Image.open(gt_path)\n",
        "    out_image_1 = Image.open(out_path_1)\n",
        "\n",
        "    # Plot ground truth image\n",
        "    ax_gt = axes[0, index-1]\n",
        "    ax_gt.imshow(gt_image)\n",
        "    ax_gt.axis('off')\n",
        "    ax_gt.set_title(f'GT {index}')\n",
        "\n",
        "    # Plot output image\n",
        "    ax_out = axes[1, index-1]\n",
        "    ax_out.imshow(out_image_1)\n",
        "    ax_out.axis('off')\n",
        "    ax_out.set_title(f'M1 {index}')\n",
        "\n",
        "# Adjust layout\n",
        "plt.tight_layout()\n",
        "plt.show()\n"
      ],
      "metadata": {
        "id": "MQbKkl_TghEe",
        "outputId": "3b876f16-93cb-44fe-d98f-dc4817ee979c",
        "colab": {
          "base_uri": "https://localhost:8080/",
          "height": 280
        }
      },
      "execution_count": 172,
      "outputs": [
        {
          "output_type": "display_data",
          "data": {
            "text/plain": [
              "<Figure size 2000x400 with 20 Axes>"
            ],
            "image/png": "[encoded data removed]"
          },
          "metadata": {}
        }
      ]
    },
    {
      "cell_type": "code",
      "source": [
        "4"
      ],
      "metadata": {
        "id": "2XYY31M0s6BA"
      },
      "execution_count": null,
      "outputs": []
    }
  ]
}