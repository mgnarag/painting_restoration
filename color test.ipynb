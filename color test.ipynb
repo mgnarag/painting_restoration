{
  "nbformat": 4,
  "nbformat_minor": 0,
  "metadata": {
    "colab": {
      "provenance": [],
      "include_colab_link": true
    },
    "kernelspec": {
      "name": "python3",
      "display_name": "Python 3"
    },
    "language_info": {
      "name": "python"
    }
  },
  "cells": [
    {
      "cell_type": "markdown",
      "metadata": {
        "id": "view-in-github",
        "colab_type": "text"
      },
      "source": [
        "<a href=\"https://colab.research.google.com/github/mgnarag/painting_restoration/blob/main/color%20test.ipynb\" target=\"_parent\"><img src=\"https://colab.research.google.com/assets/colab-badge.svg\" alt=\"Open In Colab\"/></a>"
      ]
    },
    {
      "cell_type": "code",
      "execution_count": 1,
      "metadata": {
        "id": "gXM5CNP5BaYU",
        "outputId": "e57a504b-d9f6-4d55-fe24-916fb676f730",
        "colab": {
          "base_uri": "https://localhost:8080/"
        }
      },
      "outputs": [
        {
          "output_type": "stream",
          "name": "stdout",
          "text": [
            "Mounted at /content/drive\n"
          ]
        }
      ],
      "source": [
        "from google.colab import drive\n",
        "drive.mount(\"/content/drive\")"
      ]
    },
    {
      "cell_type": "code",
      "source": [
        "!ls drive/My\\ Drive\n",
        "file_path = \"/content/drive/MyDrive/Baumgartner screenshots/\""
      ],
      "metadata": {
        "id": "xiAgOwvmBcjr",
        "collapsed": true,
        "colab": {
          "base_uri": "https://localhost:8080/"
        },
        "outputId": "424a02b7-09d5-452d-d1e2-cac6d75a0dd7"
      },
      "execution_count": 14,
      "outputs": [
        {
          "output_type": "stream",
          "name": "stdout",
          "text": [
            " 1872_Mindanao_NAP_D.FedericoCaballero.tif\n",
            " 1885_Mactan_NAP_FelixPelayo.tiff\n",
            " 201464423-23022858-PaymentSlip.pdf\n",
            " 313490484_646790150357239_663796780442369775_n.jpg\n",
            " 361079911_248325231393045_2145216296096417082_n.jpg\n",
            "'Applied Physics 184 FX-2'\n",
            " Architectural_designs\n",
            " autoencoder_32\n",
            "'autoencoder_32 (1)'\n",
            " autoencoder_64\n",
            "'Baumgartner screenshots'\n",
            "'BS Applied Physics'\n",
            " Classroom\n",
            "'CLEAN128_TEST_INPUT_[04] Coming into Bloom.png'\n",
            "'CLEAN_[WB] 1872_Mindanao_NAP_D (1).FedericoCaballero.tif'\n",
            "'CLEAN_[WB] 1872_Mindanao_NAP_D (2).FedericoCaballero.tif'\n",
            "'CLEAN_[WB] 1872_Mindanao_NAP_D (3).FedericoCaballero.tif'\n",
            "'CLEAN_[WB] 1872_Mindanao_NAP_D.FedericoCaballero.tif'\n",
            "'CNN scores.gsheet'\n",
            "'Colab Notebooks'\n",
            "'CONSENT_NARAG_MARK JEREMY_G.pdf'\n",
            " CONSENT_NARAG_MARKJEREMY_G.pdf\n",
            " CS284\n",
            "'Dorm bill.png'\n",
            " Fast-Dreambooth\n",
            "'fingerprint (1).pb'\n",
            "'fingerprint (2).pb'\n",
            "'fingerprint (3).pb'\n",
            " fingerprint.pb\n",
            " FN.png\n",
            " FP.png\n",
            " GAN\n",
            "'Geology (Ate Grass)'\n",
            "'Getting started.pdf'\n",
            " image.jpg\n",
            " IMG_5032.jpeg\n",
            " IMG_6546.PNG\n",
            "'IMG_9359 (1).PNG'\n",
            " IMG_9359.PNG\n",
            "'Information Sharing Consent Form - NARAG.pdf'\n",
            "'Information Sharing Consent Form.pdf'\n",
            " Jem_face\n",
            " Jem_face_2\n",
            " Jem_facemetadata.jsonl\n",
            "'[Journal of Cultural Heritage] Discovering artistic influences of painters'\n",
            " LORA\n",
            "'loss_32 (1).csv'\n",
            " loss_32.csv\n",
            "'loss_64 (1).csv'\n",
            " loss_64.csv\n",
            "'MALIPOL_CHAE ANN.pdf'\n",
            "'March 13 2024 Pigment Reflectance.gsheet'\n",
            "'Metric_100DPI_white balanced and bw output_1.csv'\n",
            "'Model_1_TEST_INPUT_[05] Comprimise-d.png'\n",
            "'Model_2_TEST_INPUT_[04] Coming into Bloom_V1.png'\n",
            "'Model_2_TEST_INPUT_[05] Comprimise-d.png'\n",
            "'model 64'\n",
            "'model grayscale output'\n",
            "'MS PHYSICS'\n",
            "'MS Thesis videos'\n",
            "'NARAG, MARK JEREMY, GACIAS.gdoc'\n",
            "'NARAG, MARK JEREMY, GACIAS.pdf'\n",
            "'NARAG, MARK JEREMY.jpg'\n",
            " NIP_Narag_MarkJeremy_Consent.pdf\n",
            " NIP_Narag_MarkJeremy_Informal.jpg\n",
            " NIP_Narag_MarkJeremy_Sablay.jpg\n",
            "'output v1_blue (1).png'\n",
            "'output v1_blue.png'\n",
            "'output v1_gray (1).png'\n",
            "'output v1_gray.png'\n",
            "'output v1_green (1).png'\n",
            "'output v1_green.png'\n",
            "'output v1_red (1).png'\n",
            "'output v1_red.png'\n",
            "'output v1_RGB (1).png'\n",
            "'output v1_RGB_GRAY (1).png'\n",
            "'output v1_RGB_GRAY.png'\n",
            "'output v1_RGB.png'\n",
            "'output v2_blue (1).png'\n",
            "'output v2_blue.png'\n",
            "'output v2_gray (1).png'\n",
            "'output v2_gray.png'\n",
            "'output v2_green (1).png'\n",
            "'output v2_green.png'\n",
            "'output v2_red (1).png'\n",
            "'output v2_red.png'\n",
            "'output v2_RGB (1).png'\n",
            "'output v2_RGB_GRAY (1).png'\n",
            "'output v2_RGB_GRAY.png'\n",
            "'output v2_RGB.png'\n",
            "'output v3_blue (1).png'\n",
            "'output v3_blue.png'\n",
            "'output v3_gray (1).png'\n",
            "'output v3_gray.png'\n",
            "'output v3_green (1).png'\n",
            "'output v3_green.png'\n",
            "'output v3_red (1).png'\n",
            "'output v3_red.png'\n",
            "'output v3_RGB (1).png'\n",
            "'output v3_RGB_GRAY (1).png'\n",
            "'output v3_RGB_GRAY.png'\n",
            "'output v3_RGB.png'\n",
            "'output v4_blue (1).png'\n",
            "'output v4_blue.png'\n",
            "'output v4_gray (1).png'\n",
            "'output v4_gray.png'\n",
            "'output v4_green (1).png'\n",
            "'output v4_green.png'\n",
            "'output v4_red (1).png'\n",
            "'output v4_red.png'\n",
            "'output v4_RGB (1).png'\n",
            "'output v4_RGB_GRAY (1).png'\n",
            "'output v4_RGB_GRAY.png'\n",
            "'output v4_RGB.png'\n",
            "'output v5_blue (1).png'\n",
            "'output v5_blue.png'\n",
            "'output v5_gray (1).png'\n",
            "'output v5_gray.png'\n",
            "'output v5_green (1).png'\n",
            "'output v5_green.png'\n",
            "'output v5_red (1).png'\n",
            "'output v5_red.png'\n",
            "'output v5_RGB (1).png'\n",
            "'output v5_RGB_GRAY (1).png'\n",
            "'output v5_RGB_GRAY.png'\n",
            "'output v5_RGB.png'\n",
            "'output v6_blue (1).png'\n",
            "'output v6_blue.png'\n",
            "'output v6_gray (1).png'\n",
            "'output v6_gray.png'\n",
            "'output v6_green (1).png'\n",
            "'output v6_green.png'\n",
            "'output v6_red.png'\n",
            "'output v6_RGB (1).png'\n",
            "'output v6_RGB_GRAY (1).png'\n",
            "'output v6_RGB_GRAY.png'\n",
            "'output v6_RGB.png'\n",
            "'PEHA 2021 Consent Form (fillable).pdf'\n",
            "'PhD PHYSICS'\n",
            "'PHOTO_NARAG_MARK JEREMY_G.jpg'\n",
            " PHOTO_NARAG_MARKJEREMY_G.jpg\n",
            "'Physics 265'\n",
            "'Physics 301 2S AY2122'\n",
            "'Physics 305 Data Driven Astronomy'\n",
            "'Research files'\n",
            "'RESUME_Mark Jeremy Narag.pdf'\n",
            " Rizal_input.png\n",
            "'Sanyata journal'\n",
            "'saved_model (1).pb'\n",
            "'saved_model (2).pb'\n",
            "'saved_model (3).pb'\n",
            " saved_model.pb\n",
            "'Screen Shot 2022-08-31 at 10.46.42.png'\n",
            "'Screen Shot 2022-09-13 at 12.40.21.png'\n",
            "'Screen Shot 2022-09-13 at 12.43.14.png'\n",
            " sd\n",
            "'SPP 2022'\n",
            " TP.png\n",
            " unet_64\n",
            "'Untitled document.gdoc'\n",
            "'UP CRS - Outstanding Transactions.pdf'\n",
            "'Vaccination Card (1).jpg'\n",
            "'Vaccination Card.jpg'\n",
            "'val_loss_32 (1).csv'\n",
            " val_loss_32.csv\n",
            "'val_loss_64 (1).csv'\n",
            " val_loss_64.csv\n",
            "'variables (1).data-00000-of-00001'\n",
            "'variables (2).data-00000-of-00001'\n",
            "'variables (3).data-00000-of-00001'\n",
            " variables.data-00000-of-00001\n",
            "'[WB] 1872_Mindanao_NAP_D.FedericoCaballero.tif'\n",
            "'[WB] 1885_Mactan_NAP_FelixPelayo.png'\n",
            "'[WB] XXXX_Cagayan y Ilocos_online.png'\n"
          ]
        }
      ]
    },
    {
      "cell_type": "markdown",
      "source": [
        "## Installing packages"
      ],
      "metadata": {
        "id": "zEoJQzJ5bM8p"
      }
    },
    {
      "cell_type": "code",
      "source": [
        "import time\n",
        "import pandas as pd\n",
        "\n",
        "import matplotlib.pyplot as plt\n",
        "import numpy as np\n",
        "import tensorflow as tf\n",
        "\n",
        "from PIL import Image, ImageOps\n",
        "import os\n",
        "import numpy as np\n",
        "\n",
        "import tensorflow as tf\n",
        "from tensorflow.keras.preprocessing.image import ImageDataGenerator\n",
        "import matplotlib.pyplot as plt\n",
        "from scipy.ndimage import zoom\n",
        "\n",
        "import cv2\n",
        "from skimage import color\n",
        "\n",
        "from tensorflow import keras\n",
        "from PIL import Image, ImageOps\n",
        "import numpy as np\n",
        "import PIL\n",
        "PIL.Image.MAX_IMAGE_PIXELS = 236958876\n",
        "from sklearn.model_selection import train_test_split"
      ],
      "metadata": {
        "id": "FgE9bH4-MFlB"
      },
      "execution_count": 3,
      "outputs": []
    },
    {
      "cell_type": "markdown",
      "source": [
        "## Defining functions"
      ],
      "metadata": {
        "id": "ihq928NMbTBc"
      }
    },
    {
      "cell_type": "code",
      "source": [
        "def rgb_lab_normalized(im):\n",
        "    rgb_array = np.array(im) # Convert to numpy array\n",
        "    rgb_array_normalized = rgb_array / 255.0 # Normalize RGB values from 0 to 1\n",
        "    lab_array_normalized = color.rgb2lab(rgb_array_normalized) # Convert RGB to LAB colorspace\n",
        "    lab_array_normalized[..., 0] = (lab_array_normalized[..., 0]) / 100.0 # Scale LAB values to range [0, 1]\n",
        "    lab_array_normalized[..., 1] = (lab_array_normalized[..., 1] + 128) / 255.0\n",
        "    lab_array_normalized[..., 2] = (lab_array_normalized[..., 2] + 128) / 255.0\n",
        "    lab_image_normalized = Image.fromarray((lab_array_normalized * 255).astype(np.uint8), mode='LAB')# Convert LAB array back to image\n",
        "    return lab_image_normalized"
      ],
      "metadata": {
        "id": "GRBwljTxNi-i"
      },
      "execution_count": 4,
      "outputs": []
    },
    {
      "cell_type": "markdown",
      "source": [
        "## Testing the model"
      ],
      "metadata": {
        "id": "3lnB29-_cVp-"
      }
    },
    {
      "cell_type": "markdown",
      "source": [
        "### **Model RGB:**"
      ],
      "metadata": {
        "id": "EWPFTVoVxePF"
      }
    },
    {
      "cell_type": "code",
      "source": [
        "n_size = 8\n",
        "size = 8\n",
        "\n",
        "def rgb_L_ab(rgb_image, test_L):\n",
        "    lab_array = color.rgb2lab(np.array(rgb_image))# Convert RGB to LAB colorspace\n",
        "    lab_array[..., 0] = test_L #Change L channel to input\n",
        "    rgb_array = color.lab2rgb(lab_array)# Convert back LAB to RGB colorspace\n",
        "    rgb_array = (rgb_array*255).astype(np.uint8)# Scale RGB values back to the range [0, 255]\n",
        "    rgb_array = Image.fromarray(rgb_array, mode='RGB')# Convert RGB array back to image\n",
        "    return rgb_array\n",
        "\n",
        "autoencoder = keras.models.load_model(file_path + 'Model/portion only/unet_'+str(n_size)+'_rgb')\n",
        "\n",
        "input_folder_path = file_path+ \"Testing/portion only/color test/\"\n",
        "input_files = sorted(os.listdir(input_folder_path))\n",
        "\n",
        "for image_file in input_files:\n",
        "    image_path = os.path.join(input_folder_path, image_file)\n",
        "    image = Image.open(image_path).convert('RGB')\n",
        "    test_L = color.rgb2lab(np.array(image))\n",
        "    test_L = test_L[..., 0]\n",
        "    # Resize image to (8, 8) if not already\n",
        "    image = image.resize((8, 8))\n",
        "\n",
        "    # Convert image to numpy array and scale pixel values to [0, 1]\n",
        "    image = np.array(image).astype(np.float32) / 255.0\n",
        "\n",
        "    # Expand dimensions to match the expected input shape (1, 8, 8, 3)\n",
        "    image = np.expand_dims(image, axis=0)\n",
        "\n",
        "    # Display the image\n",
        "    plt.imshow(np.squeeze(image))  # Remove batch dimension for display\n",
        "    plt.show()\n",
        "\n",
        "    decoded_imgs = autoencoder.predict(image)\n",
        "    final = (decoded_imgs*255).astype('uint8')\n",
        "\n",
        "    #----------------TEST ON FULL RGB--------------------#\n",
        "    final_rgb = final\n",
        "    final_rgb = np.squeeze(final_rgb)\n",
        "    reconstructed_rgb = Image.fromarray(final_rgb)\n",
        "    reconstructed_rgb.save(file_path + \"Testing/portion only/color test out/\"+\"Method_1_\"+image_file)\n",
        "    plt.figure(), plt.imshow(reconstructed_rgb)\n",
        "\n",
        "    #----------------TEST ON L from input and AB from convert RGB2LAB of model--------------------#\n",
        "    final_lab = rgb_L_ab(final_rgb, test_L)\n",
        "    final_lab = np.squeeze(final_lab)\n",
        "    reconstructed_lab = Image.fromarray(final_lab)\n",
        "    reconstructed_lab.save(file_path + \"Testing/portion only/color test out/\"+\"Method_2_\"+image_file)\n",
        "    plt.figure(), plt.imshow(reconstructed_lab)"
      ],
      "metadata": {
        "id": "y3j1v9uGdbTb",
        "colab": {
          "base_uri": "https://localhost:8080/",
          "height": 1000
        },
        "outputId": "1eec753f-40da-4e3f-993e-5bc815abf517"
      },
      "execution_count": 18,
      "outputs": [
        {
          "output_type": "display_data",
          "data": {
            "text/plain": [
              "<Figure size 640x480 with 1 Axes>"
            ],
            "image/png": "[encoded data removed]"
          },
          "metadata": {}
        },
        {
          "output_type": "stream",
          "name": "stdout",
          "text": [
            "1/1 [==============================] - 0s 115ms/step\n"
          ]
        },
        {
          "output_type": "display_data",
          "data": {
            "text/plain": [
              "<Figure size 640x480 with 1 Axes>"
            ],
            "image/png": "[encoded data removed]"
          },
          "metadata": {}
        },
        {
          "output_type": "display_data",
          "data": {
            "text/plain": [
              "<Figure size 640x480 with 1 Axes>"
            ],
            "image/png": "[encoded data removed]"
          },
          "metadata": {}
        },
        {
          "output_type": "stream",
          "name": "stdout",
          "text": [
            "1/1 [==============================] - 0s 33ms/step\n"
          ]
        },
        {
          "output_type": "display_data",
          "data": {
            "text/plain": [
              "<Figure size 640x480 with 1 Axes>"
            ],
            "image/png": "[encoded data removed]"
          },
          "metadata": {}
        },
        {
          "output_type": "display_data",
          "data": {
            "text/plain": [
              "<Figure size 640x480 with 1 Axes>"
            ],
            "image/png": "[encoded data removed]"
          },
          "metadata": {}
        },
        {
          "output_type": "stream",
          "name": "stdout",
          "text": [
            "1/1 [==============================] - 0s 30ms/step\n"
          ]
        },
        {
          "output_type": "display_data",
          "data": {
            "text/plain": [
              "<Figure size 640x480 with 1 Axes>"
            ],
            "image/png": "[encoded data removed]"
          },
          "metadata": {}
        },
        {
          "output_type": "display_data",
          "data": {
            "text/plain": [
              "<Figure size 640x480 with 1 Axes>"
            ],
            "image/png": "[encoded data removed]"
          },
          "metadata": {}
        },
        {
          "output_type": "stream",
          "name": "stdout",
          "text": [
            "1/1 [==============================] - 0s 19ms/step\n"
          ]
        },
        {
          "output_type": "display_data",
          "data": {
            "text/plain": [
              "<Figure size 640x480 with 1 Axes>"
            ],
            "image/png": "[encoded data removed]"
          },
          "metadata": {}
        },
        {
          "output_type": "display_data",
          "data": {
            "text/plain": [
              "<Figure size 640x480 with 1 Axes>"
            ],
            "image/png": "[encoded data removed]"
          },
          "metadata": {}
        },
        {
          "output_type": "stream",
          "name": "stdout",
          "text": [
            "1/1 [==============================] - 0s 32ms/step\n"
          ]
        },
        {
          "output_type": "display_data",
          "data": {
            "text/plain": [
              "<Figure size 640x480 with 1 Axes>"
            ],
            "image/png": "[encoded data removed]"
          },
          "metadata": {}
        },
        {
          "output_type": "display_data",
          "data": {
            "text/plain": [
              "<Figure size 640x480 with 1 Axes>"
            ],
            "image/png": "[encoded data removed]"
          },
          "metadata": {}
        },
        {
          "output_type": "stream",
          "name": "stdout",
          "text": [
            "1/1 [==============================] - 0s 28ms/step\n"
          ]
        },
        {
          "output_type": "display_data",
          "data": {
            "text/plain": [
              "<Figure size 640x480 with 1 Axes>"
            ],
            "image/png": "[encoded data removed]"
          },
          "metadata": {}
        },
        {
          "output_type": "display_data",
          "data": {
            "text/plain": [
              "<Figure size 640x480 with 1 Axes>"
            ],
            "image/png": "[encoded data removed]"
          },
          "metadata": {}
        },
        {
          "output_type": "stream",
          "name": "stdout",
          "text": [
            "1/1 [==============================] - 0s 27ms/step\n"
          ]
        },
        {
          "output_type": "display_data",
          "data": {
            "text/plain": [
              "<Figure size 640x480 with 1 Axes>"
            ],
            "image/png": "[encoded data removed]"
          },
          "metadata": {}
        },
        {
          "output_type": "display_data",
          "data": {
            "text/plain": [
              "<Figure size 640x480 with 1 Axes>"
            ],
            "image/png": "[encoded data removed]"
          },
          "metadata": {}
        },
        {
          "output_type": "stream",
          "name": "stdout",
          "text": [
            "1/1 [==============================] - 0s 21ms/step\n"
          ]
        },
        {
          "output_type": "display_data",
          "data": {
            "text/plain": [
              "<Figure size 640x480 with 1 Axes>"
            ],
            "image/png": "[encoded data removed]"
          },
          "metadata": {}
        },
        {
          "output_type": "display_data",
          "data": {
            "text/plain": [
              "<Figure size 640x480 with 1 Axes>"
            ],
            "image/png": "[encoded data removed]"
          },
          "metadata": {}
        }
      ]
    },
    {
      "cell_type": "code",
      "source": [
        "final.shape"
      ],
      "metadata": {
        "colab": {
          "base_uri": "https://localhost:8080/"
        },
        "id": "Xvz2MZvj_NDQ",
        "outputId": "ae8f00ea-84d8-44da-9511-c2434be9729c"
      },
      "execution_count": 17,
      "outputs": [
        {
          "output_type": "execute_result",
          "data": {
            "text/plain": [
              "(1, 8, 8, 3)"
            ]
          },
          "metadata": {},
          "execution_count": 17
        }
      ]
    },
    {
      "cell_type": "markdown",
      "source": [
        "### **Model LAB:**"
      ],
      "metadata": {
        "id": "kvODWjVrxmRZ"
      }
    },
    {
      "cell_type": "code",
      "source": [
        "from tensorflow import keras\n",
        "from PIL import Image, ImageOps\n",
        "import numpy as np\n",
        "import PIL\n",
        "PIL.Image.MAX_IMAGE_PIXELS = 236958876\n",
        "\n",
        "n_size = 32\n",
        "size = n_size\n",
        "\n",
        "def lab_rgb_unnormalized(lab_image):\n",
        "    lab_array = np.array(lab_image/255)# Convert LAB image to numpy array\n",
        "    lab_array[..., 0] = lab_array[..., 0] * 100.0# Scale LAB values back to their original ranges\n",
        "    lab_array[..., 1] = (lab_array[..., 1] * 255.0) - 128\n",
        "    lab_array[..., 2] = (lab_array[..., 2] * 255.0) - 128\n",
        "    rgb_array_unnormalized = color.lab2rgb(lab_array)# Convert LAB to RGB colorspace\n",
        "    rgb_array_unnormalized = (rgb_array_unnormalized * 255).astype(np.uint8)# Scale RGB values back to the range [0, 255]\n",
        "    rgb_image_unnormalized = Image.fromarray(rgb_array_unnormalized, mode='RGB')# Convert RGB array back to image\n",
        "    return rgb_image_unnormalized\n",
        "\n",
        "def AB_rgb_unnormalized(lab_image, test_L):\n",
        "    lab_array = np.array(lab_image/255)# Convert LAB image to numpy array\n",
        "    lab_array[..., 0] = test_L #replacing L from the original input\n",
        "    lab_array[..., 1] = (lab_array[..., 1] * 255.0) - 128\n",
        "    lab_array[..., 2] = (lab_array[..., 2] * 255.0) - 128\n",
        "    rgb_array_unnormalized = color.lab2rgb(lab_array)# Convert LAB to RGB colorspace\n",
        "    rgb_array_unnormalized = (rgb_array_unnormalized * 255).astype(np.uint8)# Scale RGB values back to the range [0, 255]\n",
        "    rgb_image_unnormalized = Image.fromarray(rgb_array_unnormalized, mode='RGB')# Convert RGB array back to image\n",
        "    return rgb_image_unnormalized\n",
        "\n",
        "def crop_(im):\n",
        "    width, height = im.size\n",
        "    data = []\n",
        "    for j in range(0,int(height/n_size)):\n",
        "        for i in range(0,int(width/n_size)):\n",
        "            im1 = im.crop((0 + (n_size*i), 0 + (n_size*j), n_size + (n_size*i), n_size + (n_size*j)))\n",
        "            im1 = np.array(im1)\n",
        "            im1 = im1.astype(np.float32)\n",
        "            im1 = im1/255\n",
        "            data.append(im1)\n",
        "    return data\n",
        "\n",
        "#----------------READING THE TEST IMAGE--------------------#\n",
        "test = Image.open(file_path+ \"Testing/\" + filename).convert('RGB')\n",
        "test_L = color.rgb2lab(np.array(test))\n",
        "test_L = test_L[..., 0]\n",
        "test = rgb_lab_normalized(test)\n",
        "w_dirty, h_dirty = test.size\n",
        "#----------------------------------------------------------#\n",
        "\n",
        "autoencoder = keras.models.load_model(file_path + 'Model/unet_'+str(n_size)+'_lab')\n",
        "\n",
        "xx = int(w_dirty/n_size)\n",
        "final=[]\n",
        "for portion in range(0,xx):\n",
        "    im1 = test.crop((n_size*portion, 0, (n_size*portion) + n_size, h_dirty))\n",
        "    w1, h1 = im1.size\n",
        "    w = int(w1/n_size)\n",
        "    h = int(h1/n_size)\n",
        "    neverbeforeseen = np.array(crop_(im1))\n",
        "    decoded_imgs = autoencoder.predict(neverbeforeseen)\n",
        "    col = np.vstack((decoded_imgs[0],decoded_imgs[1]))\n",
        "    for i in range(2,h):\n",
        "        col = np.vstack((col,decoded_imgs[i]))\n",
        "    y = col\n",
        "    y = (y * 255).astype('uint8')\n",
        "    if portion == 0:\n",
        "        final = y\n",
        "    if portion > 0:\n",
        "        final = np.hstack((final,y))\n",
        "\n",
        "#----------------TEST ON FULL LAB--------------------#\n",
        "final_LAB = lab_rgb_unnormalized(final)\n",
        "final_LAB = np.squeeze(final_LAB)\n",
        "reconstructed_LAB = Image.fromarray(final_LAB)\n",
        "reconstructed_LAB.save(file_path + \"Testing/\"+\"Method_3_\"+filename)\n",
        "plt.figure(), plt.imshow(reconstructed_LAB)\n",
        "\n",
        "#----------------TEST ON L from input and AB from model--------------------#\n",
        "final_L_AB = AB_rgb_unnormalized(final, test_L)\n",
        "final_L_AB = np.squeeze(final_L_AB)\n",
        "reconstructed_L_AB = Image.fromarray(final_L_AB)\n",
        "reconstructed_L_AB.save(file_path + \"Testing/\"+\"Method_4_\"+filename)\n",
        "plt.figure(), plt.imshow(reconstructed_L_AB)"
      ],
      "metadata": {
        "id": "l2WOweoWxWeB"
      },
      "execution_count": null,
      "outputs": []
    },
    {
      "cell_type": "markdown",
      "source": [
        "### **Model AB**"
      ],
      "metadata": {
        "id": "2ij1l4JRyQ3r"
      }
    },
    {
      "cell_type": "code",
      "source": [
        "from tensorflow import keras\n",
        "from PIL import Image, ImageOps\n",
        "import numpy as np\n",
        "import PIL\n",
        "PIL.Image.MAX_IMAGE_PIXELS = 236958876\n",
        "\n",
        "n_size = 32\n",
        "size = n_size\n",
        "\n",
        "def rgb_lab_normalized(im):\n",
        "    rgb_array = np.array(im) # Convert to numpy array\n",
        "    rgb_array_normalized = rgb_array / 255.0 # Normalize RGB values from 0 to 1\n",
        "    lab_array_normalized = color.rgb2lab(rgb_array_normalized) # Convert RGB to LAB colorspace\n",
        "    lab_array_normalized[..., 0] = (lab_array_normalized[..., 0]) / 100.0 # Scale LAB values to range [0, 1]\n",
        "    lab_array_normalized[..., 1] = (lab_array_normalized[..., 1] + 128) / 255.0\n",
        "    lab_array_normalized[..., 2] = (lab_array_normalized[..., 2] + 128) / 255.0\n",
        "    lab_image_normalized = Image.fromarray((lab_array_normalized * 255).astype(np.uint8), mode='LAB')# Convert LAB array back to image\n",
        "    return lab_image_normalized\n",
        "\n",
        "def AB_rgb_unnormalized(ab_image, test_L):\n",
        "    ab_array = np.array(ab_image)/255# Convert LAB image to numpy array\n",
        "    ab_array[..., 0] = (ab_array[..., 0] * 255.0) - 128\n",
        "    ab_array[..., 1] = (ab_array[..., 1] * 255.0) - 128\n",
        "    LAB_array = np.dstack((test_L, ab_array[:,:,0], ab_array[:,:,1]))\n",
        "    rgb_array_unnormalized = color.lab2rgb(LAB_array)# Convert LAB to RGB colorspace\n",
        "    rgb_array_unnormalized = (rgb_array_unnormalized * 255).astype(np.uint8)# Scale RGB values back to the range [0, 255]\n",
        "    rgb_image_unnormalized = Image.fromarray(rgb_array_unnormalized, mode='RGB')# Convert RGB array back to image\n",
        "    return rgb_image_unnormalized\n",
        "\n",
        "def crop_(im):\n",
        "    width, height = im.size\n",
        "    data = []\n",
        "    for j in range(0,int(height/n_size)):\n",
        "        for i in range(0,int(width/n_size)):\n",
        "            im1 = im.crop((0 + (n_size*i), 0 + (n_size*j), n_size + (n_size*i), n_size + (n_size*j)))\n",
        "            im1 = np.array(im1)\n",
        "            im1 = im1.astype(np.float32)\n",
        "            data.append(im1)\n",
        "    return data\n",
        "\n",
        "\n",
        "\n",
        "#----------------READING THE TEST IMAGE--------------------#\n",
        "test = Image.open(file_path+ \"Testing/\" + filename).convert('RGB')\n",
        "test_L = color.rgb2lab(np.array(test))\n",
        "test_L = np.array(test_L[..., 0]).astype('uint8')\n",
        "test = rgb_lab_normalized(test)\n",
        "#test = test[:,:,1:3]\n",
        "#test = np.array(test).astype(np.float32)/255.0\n",
        "w_dirty, h_dirty = test.size\n",
        "#----------------------------------------------------------#\n",
        "\n",
        "autoencoder = keras.models.load_model(file_path + 'Model/unet_'+str(n_size)+'_ab')\n",
        "\n",
        "xx = int(w_dirty/n_size)\n",
        "final=[]\n",
        "for portion in range(0,xx):\n",
        "    im1 = test.crop((n_size*portion, 0, (n_size*portion) + n_size, h_dirty))\n",
        "    w1, h1 = im1.size\n",
        "    w = int(w1/n_size)\n",
        "    h = int(h1/n_size)\n",
        "    neverbeforeseen = np.array(crop_(im1))\n",
        "    neverbeforeseen = neverbeforeseen[:,:,:,1:3]\n",
        "    neverbeforeseen = np.array(neverbeforeseen).astype(np.float32)/255.0\n",
        "    decoded_imgs = autoencoder.predict(neverbeforeseen)\n",
        "    col = np.vstack((decoded_imgs[0],decoded_imgs[1]))\n",
        "    for i in range(2,h):\n",
        "        col = np.vstack((col,decoded_imgs[i]))\n",
        "    y = col\n",
        "    y = (y * 255).astype('uint8')\n",
        "    if portion == 0:\n",
        "        final = y\n",
        "    if portion > 0:\n",
        "        final = np.hstack((final,y))\n",
        "\n",
        "#----------------TEST ON L from input and AB from model--------------------#\n",
        "final_L_AB = AB_rgb_unnormalized(final, test_L)\n",
        "final_L_AB = np.squeeze(final_L_AB)\n",
        "reconstructed_L_AB = Image.fromarray(final_L_AB)\n",
        "reconstructed_L_AB.save(file_path + \"Testing/\"+\"Model_5_\"+filename)\n",
        "plt.figure(), plt.imshow(reconstructed_L_AB)"
      ],
      "metadata": {
        "id": "jrXxXGj5yFs3"
      },
      "execution_count": null,
      "outputs": []
    },
    {
      "cell_type": "markdown",
      "source": [
        "### **Model AB plus Model L**"
      ],
      "metadata": {
        "id": "EzOXFu1uyjLx"
      }
    },
    {
      "cell_type": "code",
      "source": [
        "from tensorflow import keras\n",
        "from PIL import Image, ImageOps\n",
        "import numpy as np\n",
        "import PIL\n",
        "PIL.Image.MAX_IMAGE_PIXELS = 236958876\n",
        "\n",
        "n_size = 32\n",
        "size = 32\n",
        "\n",
        "def rgb_lab_normalized(im):\n",
        "    rgb_array = np.array(im) # Convert to numpy array\n",
        "    rgb_array_normalized = rgb_array / 255.0 # Normalize RGB values from 0 to 1\n",
        "    lab_array_normalized = color.rgb2lab(rgb_array_normalized) # Convert RGB to LAB colorspace\n",
        "    lab_array_normalized[..., 0] = (lab_array_normalized[..., 0]) / 100.0 # Scale LAB values to range [0, 1]\n",
        "    lab_array_normalized[..., 1] = (lab_array_normalized[..., 1] + 128) / 255.0\n",
        "    lab_array_normalized[..., 2] = (lab_array_normalized[..., 2] + 128) / 255.0\n",
        "    lab_image_normalized = Image.fromarray((lab_array_normalized * 255).astype(np.uint8), mode='LAB')# Convert LAB array back to image\n",
        "    return lab_image_normalized\n",
        "\n",
        "def L_AB_rgb_unnormalized(ab_image, final_L):\n",
        "    ab_image = ab_image/255.0\n",
        "    final_L = final_L/255.0\n",
        "    final_L[..., 0] = final_L[..., 0]*100.0\n",
        "    ab_image[..., 0] = (ab_image[..., 0] * 255.0) - 128\n",
        "    ab_image[..., 1] = (ab_image[..., 1] * 255.0) - 128\n",
        "    LAB_array = np.dstack((final_L, ab_image[:,:,0], ab_image[:,:,1]))\n",
        "    rgb_array_unnormalized = color.lab2rgb(LAB_array)# Convert LAB to RGB colorspace\n",
        "    rgb_array_unnormalized = (rgb_array_unnormalized * 255).astype(np.uint8)# Scale RGB values back to the range [0, 255]\n",
        "    rgb_image_unnormalized = Image.fromarray(rgb_array_unnormalized, mode='RGB')# Convert RGB array back to image\n",
        "    return rgb_image_unnormalized\n",
        "\n",
        "def crop_(im):\n",
        "    width, height = im.size\n",
        "    data = []\n",
        "    for j in range(0,int(height/n_size)):\n",
        "        for i in range(0,int(width/n_size)):\n",
        "            im1 = im.crop((0 + (n_size*i), 0 + (n_size*j), n_size + (n_size*i), n_size + (n_size*j)))\n",
        "            im1 = np.array(im1)\n",
        "            im1 = im1.astype(np.float32)\n",
        "            data.append(im1)\n",
        "    return data\n",
        "\n",
        "\n",
        "#----------------READING THE TEST IMAGE--------------------#\n",
        "test = Image.open(file_path+ \"Testing/\" + filename).convert('RGB')\n",
        "test = rgb_lab_normalized(test)\n",
        "w_dirty, h_dirty = test.size\n",
        "#----------------------------------------------------------#\n",
        "\n",
        "#----------------GETTING AB--------------------#\n",
        "autoencoder = keras.models.load_model(file_path + 'Model/unet_'+str(n_size)+'_ab')\n",
        "\n",
        "xx = int(w_dirty/n_size)\n",
        "final=[]\n",
        "for portion in range(0,xx):\n",
        "    im1 = test.crop((n_size*portion, 0, (n_size*portion) + n_size, h_dirty))\n",
        "    w1, h1 = im1.size\n",
        "    w = int(w1/n_size)\n",
        "    h = int(h1/n_size)\n",
        "    neverbeforeseen = np.array(crop_(im1))\n",
        "    neverbeforeseen = neverbeforeseen[:,:,:,1:3]\n",
        "    neverbeforeseen = np.array(neverbeforeseen).astype(np.float32)/255.0\n",
        "    decoded_imgs = autoencoder.predict(neverbeforeseen)\n",
        "    col = np.vstack((decoded_imgs[0],decoded_imgs[1]))\n",
        "    for i in range(2,h):\n",
        "        col = np.vstack((col,decoded_imgs[i]))\n",
        "    y = col\n",
        "    y = (y * 255).astype('uint8')\n",
        "    if portion == 0:\n",
        "        final = y\n",
        "    if portion > 0:\n",
        "        final = np.hstack((final,y))\n",
        "\n",
        "#----------------GETTING L--------------------#\n",
        "autoencoder = keras.models.load_model(file_path + 'Model/unet_'+str(n_size)+'_L')\n",
        "\n",
        "final_L=[]\n",
        "for portion in range(0,xx):\n",
        "    im1 = test.crop((n_size*portion, 0, (n_size*portion) + n_size, h_dirty))\n",
        "    w1, h1 = im1.size\n",
        "    w = int(w1/n_size)\n",
        "    h = int(h1/n_size)\n",
        "    neverbeforeseen = np.array(crop_(im1))\n",
        "    neverbeforeseen = neverbeforeseen[:,:,:,0:1]\n",
        "    neverbeforeseen = np.array(neverbeforeseen).astype(np.float32)/255.0\n",
        "    decoded_imgs = autoencoder.predict(neverbeforeseen)\n",
        "    col = np.vstack((decoded_imgs[0],decoded_imgs[1]))\n",
        "    for i in range(2,h):\n",
        "        col = np.vstack((col,decoded_imgs[i]))\n",
        "    y = col\n",
        "    y = (y * 255).astype('uint8')\n",
        "    if portion == 0:\n",
        "        final_L = y\n",
        "    if portion > 0:\n",
        "        final_L = np.hstack((final_L,y))\n",
        "\n",
        "#----------------TEST ON L from model and AB from model--------------------#\n",
        "final_L_AB = L_AB_rgb_unnormalized(final, final_L)\n",
        "final_L_AB = np.squeeze(final_L_AB)\n",
        "reconstructed_L_AB = Image.fromarray(final_L_AB)\n",
        "reconstructed_L_AB.save(file_path + \"Testing/\"+\"Method_6_\"+filename)\n",
        "plt.figure(), plt.imshow(reconstructed_L_AB)"
      ],
      "metadata": {
        "id": "LTH18YqyypPw"
      },
      "execution_count": null,
      "outputs": []
    },
    {
      "cell_type": "markdown",
      "source": [
        "## COMPUTE SSIM SCORES"
      ],
      "metadata": {
        "id": "qo3xeQtXwVif"
      }
    },
    {
      "cell_type": "code",
      "source": [
        "from PIL import Image\n",
        "import numpy as np\n",
        "from skimage.metrics import structural_similarity as ssim\n",
        "\n",
        "# Function to open image and convert to numpy array\n",
        "def load_image(image_path):\n",
        "    image = Image.open(image_path).convert('RGB')  # Ensure image is in RGB mode\n",
        "    return np.array(image)\n",
        "\n",
        "image_path1 = file_path + 'Testing/OUTPUT_[05] Comprimise-d.png'\n",
        "image_path2 = file_path + \"Testing/\"+\"Method_3_\"+str(size)+\"LAB_\"+filename\n",
        "\n",
        "# Load images\n",
        "image1 = load_image(image_path1)\n",
        "image2 = load_image(image_path2)\n",
        "\n",
        "# Ensure the images have the same dimensions\n",
        "if image1.shape != image2.shape:\n",
        "    raise ValueError(\"Input images must have the same dimensions.\")\n",
        "\n",
        "# Compute SSIM for each channel and average the results\n",
        "ssim_index_r = ssim(image1[:, :, 0], image2[:, :, 0], data_range=image1[:, :, 0].max() - image1[:, :, 0].min())\n",
        "ssim_index_g = ssim(image1[:, :, 1], image2[:, :, 1], data_range=image1[:, :, 1].max() - image1[:, :, 1].min())\n",
        "ssim_index_b = ssim(image1[:, :, 2], image2[:, :, 2], data_range=image1[:, :, 2].max() - image1[:, :, 2].min())\n",
        "\n",
        "ssim_index_rgb = (ssim_index_r + ssim_index_g + ssim_index_b) / 3\n",
        "\n",
        "print(f\"SSIM for R channel: {ssim_index_r}\")\n",
        "print(f\"SSIM for G channel: {ssim_index_g}\")\n",
        "print(f\"SSIM for B channel: {ssim_index_b}\")\n",
        "print(f\"Average SSIM for RGB image(Method3): {ssim_index_rgb}\")\n"
      ],
      "metadata": {
        "id": "MHIfhhpLHwNf",
        "outputId": "627c1f49-a23a-4e21-e02f-23c909e3a196",
        "colab": {
          "base_uri": "https://localhost:8080/"
        }
      },
      "execution_count": null,
      "outputs": [
        {
          "output_type": "stream",
          "name": "stdout",
          "text": [
            "SSIM for R channel: 0.509358346147561\n",
            "SSIM for G channel: 0.5081811788128479\n",
            "SSIM for B channel: 0.4024215496836909\n",
            "Average SSIM for RGB image(Method3): 0.4733203582146999\n"
          ]
        }
      ]
    },
    {
      "cell_type": "code",
      "source": [
        "from PIL import Image\n",
        "import numpy as np\n",
        "from skimage.metrics import structural_similarity as ssim\n",
        "\n",
        "# Function to open image and convert to numpy array\n",
        "def load_image(image_path):\n",
        "    image = Image.open(image_path).convert('RGB')  # Ensure image is in RGB mode\n",
        "    return np.array(image)\n",
        "\n",
        "image_path1 = file_path + 'Testing/OUTPUT_[05] Comprimise-d.png'\n",
        "image_path2 = file_path + \"Testing/\"+\"Method_4_\"+str(size)+\"L_AB_\"+filename\n",
        "\n",
        "# Load images\n",
        "image1 = load_image(image_path1)\n",
        "image2 = load_image(image_path2)\n",
        "\n",
        "# Ensure the images have the same dimensions\n",
        "if image1.shape != image2.shape:\n",
        "    raise ValueError(\"Input images must have the same dimensions.\")\n",
        "\n",
        "# Compute SSIM for each channel and average the results\n",
        "ssim_index_r = ssim(image1[:, :, 0], image2[:, :, 0], data_range=image1[:, :, 0].max() - image1[:, :, 0].min())\n",
        "ssim_index_g = ssim(image1[:, :, 1], image2[:, :, 1], data_range=image1[:, :, 1].max() - image1[:, :, 1].min())\n",
        "ssim_index_b = ssim(image1[:, :, 2], image2[:, :, 2], data_range=image1[:, :, 2].max() - image1[:, :, 2].min())\n",
        "\n",
        "ssim_index_rgb = (ssim_index_r + ssim_index_g + ssim_index_b) / 3\n",
        "\n",
        "print(f\"SSIM for R channel: {ssim_index_r}\")\n",
        "print(f\"SSIM for G channel: {ssim_index_g}\")\n",
        "print(f\"SSIM for B channel: {ssim_index_b}\")\n",
        "print(f\"Average SSIM for RGB image(Method4): {ssim_index_rgb}\")\n"
      ],
      "metadata": {
        "id": "K_XXHvyDNokf",
        "outputId": "cd917983-a029-457c-ba09-72d2993273bc",
        "colab": {
          "base_uri": "https://localhost:8080/"
        }
      },
      "execution_count": null,
      "outputs": [
        {
          "output_type": "stream",
          "name": "stdout",
          "text": [
            "SSIM for R channel: 0.5487580309946481\n",
            "SSIM for G channel: 0.5692294383749303\n",
            "SSIM for B channel: 0.4253035732161732\n",
            "Average SSIM for RGB image(Method4): 0.514430347528584\n"
          ]
        }
      ]
    },
    {
      "cell_type": "code",
      "source": [
        "from PIL import Image\n",
        "import numpy as np\n",
        "from skimage.metrics import structural_similarity as ssim\n",
        "\n",
        "def compute_average_ssim(image1_path, image2_path):\n",
        "    # Open the images using Pillow\n",
        "    image1 = Image.open(image1_path).convert('RGB')\n",
        "    image2 = Image.open(image2_path).convert('RGB')\n",
        "\n",
        "    # Convert images from RGB to LAB color space using Pillow\n",
        "    lab_image1 = image1.convert('LAB')\n",
        "    lab_image2 = image2.convert('LAB')\n",
        "\n",
        "    # Convert to numpy arrays\n",
        "    lab_image1 = np.array(lab_image1)\n",
        "    lab_image2 = np.array(lab_image2)\n",
        "\n",
        "    # Extract the A and B channels\n",
        "    a_channel1, b_channel1 = lab_image1[:, :, 1], lab_image1[:, :, 2]\n",
        "    a_channel2, b_channel2 = lab_image2[:, :, 1], lab_image2[:, :, 2]\n",
        "\n",
        "    # Compute SSIM for the A channel\n",
        "    ssim_a = ssim(a_channel1, a_channel2)\n",
        "\n",
        "    # Compute SSIM for the B channel\n",
        "    ssim_b = ssim(b_channel1, b_channel2)\n",
        "\n",
        "    # Average the SSIM values\n",
        "    average_ssim = (ssim_a + ssim_b) / 2\n",
        "\n",
        "    return average_ssim\n",
        "\n",
        "# Paths to the images\n",
        "image1_path = file_path + 'Testing/OUTPUT_[05] Comprimise-d.png'\n",
        "image2_path = image_path2 = file_path + \"Testing/\"+\"Method_3_\"+str(size)+\"LAB_\"+filename\n",
        "\n",
        "# Compute the average SSIM\n",
        "average_ssim_value = compute_average_ssim(image1_path, image2_path)\n",
        "print(f\"Average SSIM (A and B channels (Method3)): {average_ssim_value}\")\n"
      ],
      "metadata": {
        "id": "FK867a9sNxwM",
        "outputId": "be49afbb-ce9c-40c9-c7e1-7a32b21e2081",
        "colab": {
          "base_uri": "https://localhost:8080/"
        }
      },
      "execution_count": null,
      "outputs": [
        {
          "output_type": "stream",
          "name": "stdout",
          "text": [
            "Average SSIM (A and B channels (Method3)): 0.4829091381886401\n"
          ]
        }
      ]
    },
    {
      "cell_type": "code",
      "source": [
        "from PIL import Image\n",
        "import numpy as np\n",
        "from skimage.metrics import structural_similarity as ssim\n",
        "\n",
        "def compute_average_ssim(image1_path, image2_path):\n",
        "    # Open the images using Pillow\n",
        "    image1 = Image.open(image1_path).convert('RGB')\n",
        "    image2 = Image.open(image2_path).convert('RGB')\n",
        "\n",
        "    # Convert images from RGB to LAB color space using Pillow\n",
        "    lab_image1 = image1.convert('LAB')\n",
        "    lab_image2 = image2.convert('LAB')\n",
        "\n",
        "    # Convert to numpy arrays\n",
        "    lab_image1 = np.array(lab_image1)\n",
        "    lab_image2 = np.array(lab_image2)\n",
        "\n",
        "    # Extract the A and B channels\n",
        "    a_channel1, b_channel1 = lab_image1[:, :, 1], lab_image1[:, :, 2]\n",
        "    a_channel2, b_channel2 = lab_image2[:, :, 1], lab_image2[:, :, 2]\n",
        "\n",
        "    # Compute SSIM for the A channel\n",
        "    ssim_a = ssim(a_channel1, a_channel2)\n",
        "\n",
        "    # Compute SSIM for the B channel\n",
        "    ssim_b = ssim(b_channel1, b_channel2)\n",
        "\n",
        "    # Average the SSIM values\n",
        "    average_ssim = (ssim_a + ssim_b) / 2\n",
        "\n",
        "    return average_ssim\n",
        "\n",
        "# Paths to the images\n",
        "image1_path = file_path + 'Testing/OUTPUT_[05] Comprimise-d.png'\n",
        "image2_path = image_path2 = file_path + \"Testing/\"+\"Method_4_\"+str(size)+\"L_AB_\"+filename\n",
        "\n",
        "# Compute the average SSIM\n",
        "average_ssim_value = compute_average_ssim(image1_path, image2_path)\n",
        "print(f\"Average SSIM (A and B channels (Method4)): {average_ssim_value}\")\n"
      ],
      "metadata": {
        "id": "HJJHBbh3SHZO",
        "outputId": "968b80df-3f0f-4714-83ad-270f209f7aad",
        "colab": {
          "base_uri": "https://localhost:8080/"
        }
      },
      "execution_count": null,
      "outputs": [
        {
          "output_type": "stream",
          "name": "stdout",
          "text": [
            "Average SSIM (A and B channels (Method4)): 0.4836187382989704\n"
          ]
        }
      ]
    }
  ]
}