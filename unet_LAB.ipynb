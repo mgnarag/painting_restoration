{
  "nbformat": 4,
  "nbformat_minor": 0,
  "metadata": {
    "colab": {
      "provenance": [],
      "include_colab_link": true
    },
    "kernelspec": {
      "name": "python3",
      "display_name": "Python 3"
    },
    "language_info": {
      "name": "python"
    },
    "accelerator": "GPU",
    "gpuClass": "standard"
  },
  "cells": [
    {
      "cell_type": "markdown",
      "metadata": {
        "id": "view-in-github",
        "colab_type": "text"
      },
      "source": [
        "<a href=\"https://colab.research.google.com/github/mgnarag/painting_restoration/blob/main/unet_LAB.ipynb\" target=\"_parent\"><img src=\"https://colab.research.google.com/assets/colab-badge.svg\" alt=\"Open In Colab\"/></a>"
      ]
    },
    {
      "cell_type": "code",
      "execution_count": 1,
      "metadata": {
        "id": "gXM5CNP5BaYU",
        "outputId": "ea2e5f0f-3b97-4d7b-aa2e-fa650fd9d548",
        "colab": {
          "base_uri": "https://localhost:8080/"
        }
      },
      "outputs": [
        {
          "output_type": "stream",
          "name": "stdout",
          "text": [
            "Mounted at /content/drive\n"
          ]
        }
      ],
      "source": [
        "from google.colab import drive\n",
        "drive.mount(\"/content/drive\")"
      ]
    },
    {
      "cell_type": "code",
      "source": [
        "!ls drive/My\\ Drive\n",
        "file_path = \"/content/drive/MyDrive/Baumgartner screenshots/\""
      ],
      "metadata": {
        "id": "xiAgOwvmBcjr",
        "collapsed": true,
        "colab": {
          "base_uri": "https://localhost:8080/"
        },
        "outputId": "2a266dd6-4561-42f7-90cc-4bd788da086e"
      },
      "execution_count": 2,
      "outputs": [
        {
          "output_type": "stream",
          "name": "stdout",
          "text": [
            "'[1] Imagic-  Text-Based Real Image Editing with Diffusion Models .mp4'\n",
            "'20200904_105320[1].jpg'\n",
            "'5th Year 1st Sem 1st VIP Progress Report.pdf'\n",
            "'5th Year 1st Sem 1st VIP Progress Report.pptx'\n",
            " 6050_XXXXXX5284_HO01190614_20210628.zip\n",
            " 7008837749.zip\n",
            "'A0042 ICMIP.gslides'\n",
            "'[A] 100 DPI non white balanced and bw output'\n",
            "'AP 165 Camera Obscura.gdoc'\n",
            "'AP 183 LE1'\n",
            " Architectural_designs\n",
            "'Art and Science - STS Final Report.gdoc'\n",
            " autoencoder_6_red_200\n",
            "'Baumgartner screenshots'\n",
            " BPI-PHILAM-XXXXXX5284.zip\n",
            " Classroom\n",
            "'CLEAN_[WB] 1872_Mindanao_NAP_D.FedericoCaballero.tif'\n",
            "'CLEAN_[WB] 1885_Mactan_NAP_FelixPelayo.png'\n",
            "'CLEAN_[WB] XXXX_Cagayan y Ilocos_online (1).png'\n",
            "'CLEAN_[WB] XXXX_Cagayan y Ilocos_online.png'\n",
            "'Colab Notebooks'\n",
            "'Continuous RV Probability Distributions (Annotated).pptx'\n",
            "'Copy of Addition of Vectors.pdf'\n",
            "'Copy of Buoyancy.pdf'\n",
            "'Copy of Free Fall.pdf'\n",
            "'Copy of Measurement, Uncertainty, and Deviation.pdf'\n",
            "'Copy of Measuring Devices.pdf'\n",
            "'Copy of Physical Pendulum.pdf'\n",
            "'Copy of Projectile Motion.pdf'\n",
            "'Copy of Rotation.pdf'\n",
            "'Copy of Sound.pdf'\n",
            "'Copy of Torque and Equilibrium.pdf'\n",
            " CS284\n",
            "'Curriculum Vitae.pdf'\n",
            "'CWTS Accomplishment Report.gdoc'\n",
            " docslide.us_david-j-griffiths-instructors-solution-manuals-to-introduction-to-electrodynamics.pdf\n",
            " DSC_2913.JPG\n",
            " DSC_2914.JPG\n",
            " DSC_2919.JPG\n",
            " DSC_2920.JPG\n",
            " DSC_2921.JPG\n",
            " DSC_2924.JPG\n",
            " DSC_3059.JPG\n",
            " DSC_3060.JPG\n",
            " dyadry.gdoc\n",
            "'DYAD Skit.gdoc'\n",
            "'Eugene Hecht-Optics-Addison-Wesley (2002) (1).pdf'\n",
            "'Eugene Hecht-Optics-Addison-Wesley (2002).pdf'\n",
            "'Experiment 1 AP185.gdoc'\n",
            "'FINAL THESIS DEFENSE SLIDES.pptx'\n",
            " fingerprint.pb\n",
            " Flowchart.gslides\n",
            " Flowchart.pptx\n",
            "'Gantt Chart - NIP CWTS Group 3.gsheet'\n",
            "'Geog 1 Conversion.gsheet'\n",
            "'Geog 1.gsheet'\n",
            "'GEOL 11.gdoc'\n",
            "'Geology (Ate Grass)'\n",
            "'Getting started.pdf'\n",
            "'Group Discussion | Team ChocNut.gslides'\n",
            " Home\n",
            "'Kamia girls barkada'\n",
            "'Kape o USC.gform'\n",
            "'LAMBAK DP'\n",
            "'Letter for late payment.gdoc'\n",
            " loss_65.csv\n",
            " loss_66.csv\n",
            " Malaysia.pptx\n",
            "'Mount Pulag July 9-10'\n",
            "'NARAG_Curriculum Vitae.pdf'\n",
            "'NARAG_Letter of Motivation.pdf'\n",
            "'narag_markjeremy_journalpaperreport[1].gdoc'\n",
            "'NARAG MARK JEREMY.JPG'\n",
            "'NARAG_Proposal (1).pdf'\n",
            "'NARAG_Proposal (2).pdf'\n",
            "'NARAG_Proposal (3).pdf'\n",
            " NARAG_Proposal.pdf\n",
            "'NIP COVID 19 Report.gsheet'\n",
            " OAR_NARAG\n",
            "'[Paul_Horowitz,_Winfield_Hill]_The_Art_of_Electron(BookZZ.org).pdf'\n",
            "'Physics 104.1 Slideshow Presentation.gslides'\n",
            "'Physics 192 Presentation.gslides'\n",
            "'Physics 71 Orye Slides.gslides'\n",
            "'Physics 72.1 Zoom recording'\n",
            "'PI 100 Project'\n",
            "'Pic (1).zip'\n",
            " Pic.zip\n",
            "'Pubwave 3.pptx'\n",
            "'request for late payment JF 1st sem AY 2020-2021.gdoc'\n",
            "'Research Meeting 6 (March 6).pptx'\n",
            "'Research Meeting 6 (March 6).pptx.gslides'\n",
            " saved_model.pb\n",
            "'Science fair.gslides'\n",
            "'Science project.gslides'\n",
            "'SPP 2022'\n",
            "'Spring Mass.py'\n",
            "'stellarium-0.17.0-win64(1).exe'\n",
            "'STS: Arts and Science.gdoc'\n",
            "'STS Group 14 Travel Time.gsheet'\n",
            "'Survey on how do you want your physics instructors to handle the class.gform'\n",
            "'Tarp Designs.zip'\n",
            " tARP.pptx\n",
            "'Thesis slides - Finals.pptx'\n",
            "'Thesis slides - Finals.zip'\n",
            "'Thesis slides.gslides'\n",
            "'Thesis slides.pptx'\n",
            " unet_65\n",
            " unet_66_2conv\n",
            "'Untitled document.gdoc'\n",
            "\"UP Lambak Applicants' Orientation.gform\"\n",
            " val_loss_65.csv\n",
            " val_loss_66.csv\n",
            " variables.data-00000-of-00001\n",
            " variables_temp\n",
            "'VIP Graduates 2017'\n",
            "'VIP ML Lec#1.gslides'\n",
            "'VIP ML Lecture #2.gslides'\n",
            "'VIP ML Lecture #3.gslides'\n",
            "'VIP ML Lecture #4.gslides'\n",
            "'VIP Seminar Schedule 1st Sem AY 2020-2021.gsheet'\n",
            "'Water clear LEDs (1).jpg'\n",
            "'Water clear LEDs.jpg'\n",
            " WIN_20200904_10_46_52_Pro.jpg\n",
            "'Zambales - March 2022'\n"
          ]
        }
      ]
    },
    {
      "cell_type": "markdown",
      "source": [
        "## Installing packages"
      ],
      "metadata": {
        "id": "zEoJQzJ5bM8p"
      }
    },
    {
      "cell_type": "code",
      "source": [
        "import time\n",
        "import pandas as pd\n",
        "\n",
        "import matplotlib.pyplot as plt\n",
        "import numpy as np\n",
        "import tensorflow as tf\n",
        "\n",
        "from PIL import Image, ImageOps\n",
        "import os\n",
        "import numpy as np\n",
        "\n",
        "import tensorflow as tf\n",
        "from tensorflow.keras.preprocessing.image import ImageDataGenerator\n",
        "import matplotlib.pyplot as plt\n",
        "from scipy.ndimage import zoom\n",
        "\n",
        "import cv2\n",
        "from skimage import color\n",
        "\n",
        "from tensorflow import keras\n",
        "from PIL import Image, ImageOps\n",
        "import numpy as np\n",
        "import PIL\n",
        "PIL.Image.MAX_IMAGE_PIXELS = 236958876\n",
        "from sklearn.model_selection import train_test_split"
      ],
      "metadata": {
        "id": "FgE9bH4-MFlB"
      },
      "execution_count": 3,
      "outputs": []
    },
    {
      "cell_type": "markdown",
      "source": [
        "## Defining functions"
      ],
      "metadata": {
        "id": "ihq928NMbTBc"
      }
    },
    {
      "cell_type": "code",
      "source": [
        "def zoom_and_resize(img, zoom_factor):\n",
        "    height, width = img.shape[:2]\n",
        "    crop_top = int((height - height / zoom_factor) / 2)# Calculate the region to crop around the center\n",
        "    crop_bottom = int(height - crop_top)\n",
        "    crop_left = int((width - width / zoom_factor) / 2)\n",
        "    crop_right = int(width - crop_left)\n",
        "    cropped_image = img[crop_top:crop_bottom, crop_left:crop_right]    # Crop the image\n",
        "    resized_image = cv2.resize(cropped_image, (width, height))# Resize the zoomed image back to the original dimensions\n",
        "    return resized_image\n",
        "\n",
        "def crop(im):\n",
        "    width, height = im.size\n",
        "    data = []\n",
        "    step = int(size * 0.80)  # Adjust the step size for cropping\n",
        "    for j in range(0, height, step):\n",
        "        for i in range(0, width, step):\n",
        "            if i + size <= width and j + size <= height:\n",
        "                im1 = im.crop((i, j, i + size, j + size))\n",
        "                im1 = np.array(im1).astype(np.float32)\n",
        "                data.append(im1/255)\n",
        "                im1 = np.rot90(im1)\n",
        "                data.append(im1/255)\n",
        "                #im1 = np.rot90(im1)\n",
        "                #data.append(im1/255)\n",
        "                #im1 = np.rot90(im1)\n",
        "                #data.append(im1/255)\n",
        "                #for z in zoom_factor:\n",
        "                #    zoomed_img = zoom_and_resize(im1, z)\n",
        "                #    data.append(zoomed_img/255)\n",
        "    return data\n",
        "\n",
        "def rgb_lab_normalized(im):\n",
        "    rgb_array = np.array(im) # Convert to numpy array\n",
        "    rgb_array_normalized = rgb_array / 255.0 # Normalize RGB values from 0 to 1\n",
        "    lab_array_normalized = color.rgb2lab(rgb_array_normalized) # Convert RGB to LAB colorspace\n",
        "    lab_array_normalized[..., 0] = (lab_array_normalized[..., 0]) / 100.0 # Scale LAB values to range [0, 1]\n",
        "    lab_array_normalized[..., 1] = (lab_array_normalized[..., 1] + 128) / 255.0\n",
        "    lab_array_normalized[..., 2] = (lab_array_normalized[..., 2] + 128) / 255.0\n",
        "    lab_image_normalized = Image.fromarray((lab_array_normalized * 255).astype(np.uint8), mode='LAB')# Convert LAB array back to image\n",
        "    return lab_image_normalized"
      ],
      "metadata": {
        "id": "GRBwljTxNi-i"
      },
      "execution_count": 4,
      "outputs": []
    },
    {
      "cell_type": "markdown",
      "source": [
        "## Preparing the training dataset"
      ],
      "metadata": {
        "id": "Nhjd4suVbXAZ"
      }
    },
    {
      "cell_type": "code",
      "source": [
        "size = 32\n",
        "model_number = size\n",
        "\n",
        "#zoom_factor = [1.50, 2.0, 2.50, 3.0]\n",
        "input = []\n",
        "output = []\n",
        "\n",
        "input_folder_path = file_path + 'Training/input/'\n",
        "output_folder_path = file_path + 'Training/output/'\n",
        "# List all files in the directory\n",
        "input_files = os.listdir(input_folder_path)\n",
        "output_files = os.listdir(output_folder_path)\n",
        "\n",
        "for image_file in input_files:\n",
        "    image_path = os.path.join(input_folder_path, image_file)\n",
        "    image = Image.open(image_path).convert('RGB')\n",
        "    image = rgb_lab_normalized(image)\n",
        "    image = crop(image)\n",
        "    input.extend(image)\n",
        "\n",
        "for image_file in output_files:\n",
        "    image_path = os.path.join(output_folder_path, image_file)\n",
        "    image = Image.open(image_path).convert('RGB')\n",
        "    image = rgb_lab_normalized(image)\n",
        "    image = crop(image)\n",
        "    output.extend(image)\n",
        "input = np.array(input)\n",
        "output = np.array(output)\n",
        "\n",
        "print(\"Done reading the input of size = \", input.shape)\n",
        "print(\"Done reading the output of size = \", output.shape)\n",
        "\n",
        "# Split the data into training and testing sets\n",
        "train_input, test_input, train_output, test_output = train_test_split(\n",
        "    input, output, test_size=0.2, random_state=42)\n",
        "\n",
        "print(\"Done reading the train input of size = \", train_input.shape)\n",
        "print(\"Done reading the test input of size = \", test_input.shape)\n",
        "print(\"Done reading the train output of size = \", train_input.shape)\n",
        "print(\"Done reading the test output of size = \", test_input.shape)\n",
        "\n",
        "input = []\n",
        "output = []"
      ],
      "metadata": {
        "id": "MjpPVdDyBeby",
        "colab": {
          "base_uri": "https://localhost:8080/"
        },
        "outputId": "2936fa9e-743b-4f1b-8610-e2ffc48f925a"
      },
      "execution_count": 5,
      "outputs": [
        {
          "output_type": "stream",
          "name": "stdout",
          "text": [
            "Done reading the input of size =  (35136, 32, 32, 3)\n",
            "Done reading the output of size =  (35136, 32, 32, 3)\n",
            "Done reading the train input of size =  (28108, 32, 32, 3)\n",
            "Done reading the test input of size =  (7028, 32, 32, 3)\n",
            "Done reading the train output of size =  (28108, 32, 32, 3)\n",
            "Done reading the test output of size =  (7028, 32, 32, 3)\n"
          ]
        }
      ]
    },
    {
      "cell_type": "code",
      "source": [
        "N = 20000\n",
        "n = 10\n",
        "plt.figure(figsize=(10, 4))\n",
        "for i in range(0,10):\n",
        "    ax = plt.subplot(2, n, i + 1)\n",
        "    plt.title(\"input\")\n",
        "    plt.imshow((train_input[i+N]))\n",
        "    plt.gray()\n",
        "    ax.get_xaxis().set_visible(False)\n",
        "    ax.get_yaxis().set_visible(False)\n",
        "\n",
        "    bx = plt.subplot(2, n, i + n + 1)\n",
        "    plt.title(\"output\")\n",
        "    plt.imshow((train_output[i+N]))\n",
        "    plt.gray()\n",
        "    bx.get_xaxis().set_visible(False)\n",
        "    bx.get_yaxis().set_visible(False)\n",
        "plt.show()"
      ],
      "metadata": {
        "id": "zUKPw12vBfw_",
        "colab": {
          "base_uri": "https://localhost:8080/",
          "height": 293
        },
        "outputId": "7162a50b-f505-4033-b269-32a903a467ad"
      },
      "execution_count": 6,
      "outputs": [
        {
          "output_type": "display_data",
          "data": {
            "text/plain": [
              "<Figure size 1000x400 with 20 Axes>"
            ],
            "image/png": "[encoded data removed]"
          },
          "metadata": {}
        }
      ]
    },
    {
      "cell_type": "markdown",
      "source": [
        "## Creating the Unet model"
      ],
      "metadata": {
        "id": "dVinHDkbcBXV"
      }
    },
    {
      "cell_type": "code",
      "source": [
        "from keras.models import Model\n",
        "from keras.layers import Input, Conv2D, MaxPooling2D, UpSampling2D, concatenate, Conv2DTranspose, BatchNormalization\n",
        "from tensorflow.keras import layers, losses\n",
        "\n",
        "\n",
        "def unet_model(input_shape=(size, size, 3)):\n",
        "    inputs = Input(input_shape)\n",
        "\n",
        "    # Contracting Path\n",
        "    conv1 = Conv2D(64, 3, activation='relu', padding='same')(inputs)\n",
        "    conv1 = Conv2D(64, 3, activation='relu', padding='same')(conv1)\n",
        "\n",
        "    conv2 = Conv2D(128, 3, activation='relu', padding='same', strides = 2)(conv1)\n",
        "    conv2 = Conv2D(128, 3, activation='relu', padding='same')(conv2)\n",
        "\n",
        "    conv3 = Conv2D(256, 3, activation='relu', padding='same', strides = 2)(conv2)\n",
        "    conv3 = Conv2D(256, 3, activation='relu', padding='same')(conv3)\n",
        "\n",
        "    #conv4 = Conv2D(512, 3, activation='relu', padding='same', strides = 2)(conv3)\n",
        "    #conv4 = Conv2D(512, 3, activation='relu', padding='same')(conv4)\n",
        "\n",
        "    #conv5 = concatenate([Conv2DTranspose(256, kernel_size=3, strides=2, activation='relu', padding='same')(conv4), conv3], axis = -1)\n",
        "    #conv5 = Conv2D(128, 3, activation='relu', padding='same')(conv5)\n",
        "\n",
        "    conv6 = concatenate([Conv2DTranspose(128, kernel_size=3, strides=2, activation='relu', padding='same')(conv3), conv2], axis = -1)\n",
        "    conv6 = Conv2D(128, 3, activation='relu', padding='same')(conv6)\n",
        "\n",
        "    conv7 = concatenate([Conv2DTranspose(64, kernel_size=3, strides=2, activation='relu', padding='same')(conv6), conv1], axis = -1)\n",
        "    conv7 = Conv2D(64, 3, activation='relu', padding='same')(conv7)\n",
        "\n",
        "    # Output Layer\n",
        "    output = Conv2D(3, kernel_size=(3, 3), activation='sigmoid', padding='same')(conv7)\n",
        "\n",
        "    model = Model(inputs=inputs, outputs=output)\n",
        "    return model\n",
        "\n",
        "# Usage example:\n",
        "unet = unet_model()\n",
        "unet.summary()"
      ],
      "metadata": {
        "id": "3zLL3Bc6DpPz",
        "outputId": "933689b4-3d88-4cb2-edf7-0e9e40f8893f",
        "colab": {
          "base_uri": "https://localhost:8080/"
        }
      },
      "execution_count": 7,
      "outputs": [
        {
          "output_type": "stream",
          "name": "stdout",
          "text": [
            "Model: \"model\"\n",
            "__________________________________________________________________________________________________\n",
            " Layer (type)                Output Shape                 Param #   Connected to                  \n",
            "==================================================================================================\n",
            " input_1 (InputLayer)        [(None, 32, 32, 3)]          0         []                            \n",
            "                                                                                                  \n",
            " conv2d (Conv2D)             (None, 32, 32, 64)           1792      ['input_1[0][0]']             \n",
            "                                                                                                  \n",
            " conv2d_1 (Conv2D)           (None, 32, 32, 64)           36928     ['conv2d[0][0]']              \n",
            "                                                                                                  \n",
            " conv2d_2 (Conv2D)           (None, 16, 16, 128)          73856     ['conv2d_1[0][0]']            \n",
            "                                                                                                  \n",
            " conv2d_3 (Conv2D)           (None, 16, 16, 128)          147584    ['conv2d_2[0][0]']            \n",
            "                                                                                                  \n",
            " conv2d_4 (Conv2D)           (None, 8, 8, 256)            295168    ['conv2d_3[0][0]']            \n",
            "                                                                                                  \n",
            " conv2d_5 (Conv2D)           (None, 8, 8, 256)            590080    ['conv2d_4[0][0]']            \n",
            "                                                                                                  \n",
            " conv2d_transpose (Conv2DTr  (None, 16, 16, 128)          295040    ['conv2d_5[0][0]']            \n",
            " anspose)                                                                                         \n",
            "                                                                                                  \n",
            " concatenate (Concatenate)   (None, 16, 16, 256)          0         ['conv2d_transpose[0][0]',    \n",
            "                                                                     'conv2d_3[0][0]']            \n",
            "                                                                                                  \n",
            " conv2d_6 (Conv2D)           (None, 16, 16, 128)          295040    ['concatenate[0][0]']         \n",
            "                                                                                                  \n",
            " conv2d_transpose_1 (Conv2D  (None, 32, 32, 64)           73792     ['conv2d_6[0][0]']            \n",
            " Transpose)                                                                                       \n",
            "                                                                                                  \n",
            " concatenate_1 (Concatenate  (None, 32, 32, 128)          0         ['conv2d_transpose_1[0][0]',  \n",
            " )                                                                   'conv2d_1[0][0]']            \n",
            "                                                                                                  \n",
            " conv2d_7 (Conv2D)           (None, 32, 32, 64)           73792     ['concatenate_1[0][0]']       \n",
            "                                                                                                  \n",
            " conv2d_8 (Conv2D)           (None, 32, 32, 3)            1731      ['conv2d_7[0][0]']            \n",
            "                                                                                                  \n",
            "==================================================================================================\n",
            "Total params: 1884803 (7.19 MB)\n",
            "Trainable params: 1884803 (7.19 MB)\n",
            "Non-trainable params: 0 (0.00 Byte)\n",
            "__________________________________________________________________________________________________\n"
          ]
        }
      ]
    },
    {
      "cell_type": "markdown",
      "source": [
        "## Training the Unet model"
      ],
      "metadata": {
        "id": "Ni8MyrOhcE-y"
      }
    },
    {
      "cell_type": "code",
      "source": [
        "from keras.optimizers import Adam\n",
        "opt = Adam(learning_rate=0.0001)\n",
        "unet.compile(optimizer=opt, loss=losses.MeanSquaredError())\n",
        "start = time.time()\n",
        "model = unet.fit(train_input, train_output,\n",
        "                epochs=100,\n",
        "                shuffle=True,\n",
        "                validation_data=(test_input, test_output),batch_size=16)\n",
        "end = time.time()\n",
        "\n",
        "print(\"The time of execution of above program is :\",\n",
        "      (end-start), \"seconds\")\n",
        "\n",
        "unet.save(file_path + 'Model/unet_' + str(model_number) + '_lab')\n",
        "\n",
        "loss = model.history['loss']\n",
        "loss = pd.DataFrame(loss)\n",
        "loss.to_csv(file_path + 'Model/loss_'+ str(model_number) + '_lab.csv')\n",
        "val_loss = model.history['val_loss']\n",
        "val_loss = pd.DataFrame(val_loss)\n",
        "val_loss.to_csv(file_path  +'Model/val_loss_'+ str(model_number)+ '_lab.csv')"
      ],
      "metadata": {
        "id": "ZaMd_O_LN6pB"
      },
      "execution_count": null,
      "outputs": []
    },
    {
      "cell_type": "markdown",
      "source": [
        "## Testing the model"
      ],
      "metadata": {
        "id": "3lnB29-_cVp-"
      }
    },
    {
      "cell_type": "code",
      "source": [
        "from tensorflow import keras\n",
        "from PIL import Image, ImageOps\n",
        "import numpy as np\n",
        "import PIL\n",
        "PIL.Image.MAX_IMAGE_PIXELS = 236958876\n",
        "\n",
        "n_size = 32\n",
        "\n",
        "def lab_rgb_unnormalized(lab_image):\n",
        "    lab_array = np.array(lab_image/255)# Convert LAB image to numpy array\n",
        "    lab_array[..., 0] = lab_array[..., 0] * 100.0# Scale LAB values back to their original ranges\n",
        "    lab_array[..., 1] = (lab_array[..., 1] * 255.0) - 128\n",
        "    lab_array[..., 2] = (lab_array[..., 2] * 255.0) - 128\n",
        "    rgb_array_unnormalized = color.lab2rgb(lab_array)# Convert LAB to RGB colorspace\n",
        "    rgb_array_unnormalized = (rgb_array_unnormalized * 255).astype(np.uint8)# Scale RGB values back to the range [0, 255]\n",
        "    rgb_image_unnormalized = Image.fromarray(rgb_array_unnormalized, mode='RGB')# Convert RGB array back to image\n",
        "    return rgb_image_unnormalized\n",
        "\n",
        "def AB_rgb_unnormalized(lab_image, test_L):\n",
        "    lab_array = np.array(lab_image/255)# Convert LAB image to numpy array\n",
        "    lab_array[..., 0] = test_L #replacing L from the original input\n",
        "    lab_array[..., 1] = (lab_array[..., 1] * 255.0) - 128\n",
        "    lab_array[..., 2] = (lab_array[..., 2] * 255.0) - 128\n",
        "    rgb_array_unnormalized = color.lab2rgb(lab_array)# Convert LAB to RGB colorspace\n",
        "    rgb_array_unnormalized = (rgb_array_unnormalized * 255).astype(np.uint8)# Scale RGB values back to the range [0, 255]\n",
        "    rgb_image_unnormalized = Image.fromarray(rgb_array_unnormalized, mode='RGB')# Convert RGB array back to image\n",
        "    return rgb_image_unnormalized\n",
        "\n",
        "def crop_(im):\n",
        "    width, height = im.size\n",
        "    data = []\n",
        "    for j in range(0,int(height/n_size)):\n",
        "        for i in range(0,int(width/n_size)):\n",
        "            im1 = im.crop((0 + (n_size*i), 0 + (n_size*j), n_size + (n_size*i), n_size + (n_size*j)))\n",
        "            im1 = np.array(im1)\n",
        "            im1 = im1.astype(np.float32)\n",
        "            im1 = im1/255\n",
        "            data.append(im1)\n",
        "    return data\n",
        "\n",
        "\n",
        "#----------------READING THE TEST IMAGE--------------------#\n",
        "filename = str(\"TEST_INPUT_[04] Coming into Bloom_V1.png\")\n",
        "test = Image.open(file_path+ \"Testing/\" + filename).convert('RGB')\n",
        "test_L = color.rgb2lab(np.array(test))\n",
        "test_L = test_L[..., 0]\n",
        "test = rgb_lab_normalized(test)\n",
        "w_dirty, h_dirty = test.size\n",
        "#----------------------------------------------------------#\n",
        "\n",
        "autoencoder = keras.models.load_model(file_path + 'Model/unet_'+str(n_size)+'_lab')\n",
        "\n",
        "\n",
        "xx = int(w_dirty/n_size)\n",
        "final=[]\n",
        "for portion in range(0,xx):\n",
        "    im1 = test.crop((n_size*portion, 0, (n_size*portion) + n_size, h_dirty))\n",
        "    w1, h1 = im1.size\n",
        "    w = int(w1/n_size)\n",
        "    h = int(h1/n_size)\n",
        "    neverbeforeseen = np.array(crop_(im1))\n",
        "    decoded_imgs = autoencoder.predict(neverbeforeseen)\n",
        "    col = np.vstack((decoded_imgs[0],decoded_imgs[1]))\n",
        "    for i in range(2,h):\n",
        "        col = np.vstack((col,decoded_imgs[i]))\n",
        "    y = col\n",
        "    y = (y * 255).astype('uint8')\n",
        "    if portion == 0:\n",
        "        final = y\n",
        "    if portion > 0:\n",
        "        final = np.hstack((final,y))\n",
        "\n",
        "#----------------TEST ON FULL LAB--------------------#\n",
        "final_LAB = lab_rgb_unnormalized(final)\n",
        "final_LAB = np.squeeze(final_LAB)\n",
        "reconstructed_LAB = Image.fromarray(final_LAB)\n",
        "reconstructed_LAB.save(file_path + \"Testing/\"+\"CLEAN\"+str(size)+\"LAB_\"+filename)\n",
        "plt.figure(), plt.imshow(reconstructed_LAB)\n",
        "\n",
        "#----------------TEST ON L from input and AB from model--------------------#\n",
        "final_L_AB = AB_rgb_unnormalized(final, test_L)\n",
        "final_L_AB = np.squeeze(final_L_AB)\n",
        "reconstructed_L_AB = Image.fromarray(final_L_AB)\n",
        "reconstructed_L_AB.save(file_path + \"Testing/\"+\"CLEAN\"+str(size)+\"L_AB_\"+filename)\n",
        "plt.figure(), plt.imshow(reconstructed_L_AB)"
      ],
      "metadata": {
        "id": "y3j1v9uGdbTb"
      },
      "execution_count": null,
      "outputs": []
    }
  ]
}